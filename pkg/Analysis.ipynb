{
 "cells": [
  {
   "cell_type": "code",
   "execution_count": 8,
   "metadata": {},
   "outputs": [],
   "source": [
    "import pandas as pd\n",
    "import os"
   ]
  },
  {
   "cell_type": "code",
   "execution_count": 22,
   "metadata": {},
   "outputs": [
    {
     "data": {
      "text/html": [
       "<div>\n",
       "<style scoped>\n",
       "    .dataframe tbody tr th:only-of-type {\n",
       "        vertical-align: middle;\n",
       "    }\n",
       "\n",
       "    .dataframe tbody tr th {\n",
       "        vertical-align: top;\n",
       "    }\n",
       "\n",
       "    .dataframe thead th {\n",
       "        text-align: right;\n",
       "    }\n",
       "</style>\n",
       "<table border=\"1\" class=\"dataframe\">\n",
       "  <thead>\n",
       "    <tr style=\"text-align: right;\">\n",
       "      <th></th>\n",
       "      <th></th>\n",
       "      <th>Item;Catalog Number;Type;Supplier name;Tag;Unit of measurement;Purchased;Returned;Sold;Wasted;Purchasing deviation (%);Purchasing deviation (€);Beginning inventory;Expected inventory;Ending inventory;Inventory deviation;Inventory deviation (%);Inventory deviation (€)</th>\n",
       "    </tr>\n",
       "  </thead>\n",
       "  <tbody>\n",
       "    <tr>\n",
       "      <td>Scone Mixed Berry</td>\n",
       "      <td>1 unit in Unit</td>\n",
       "      <td>1 units in package;MB-SCONE;;Kitchen;COS - Ki...</td>\n",
       "    </tr>\n",
       "    <tr>\n",
       "      <td>Raspberry Brownie</td>\n",
       "      <td>1 unit in Bag</td>\n",
       "      <td>1 units in package;RASP-BROWN;;Kitchen;COS - ...</td>\n",
       "    </tr>\n",
       "    <tr>\n",
       "      <td>Financier Almond</td>\n",
       "      <td>1 unit in Unit</td>\n",
       "      <td>1 units in package;FIN-ALM;;Kitchen;COS - Kit...</td>\n",
       "    </tr>\n",
       "    <tr>\n",
       "      <td>Porridge Oats</td>\n",
       "      <td>750 g in Bag</td>\n",
       "      <td>1 units in package;PORR-OATS;;Kitchen;COS - K...</td>\n",
       "    </tr>\n",
       "    <tr>\n",
       "      <td>Catering Crisps</td>\n",
       "      <td>200 g in Bag</td>\n",
       "      <td>1 units in package;CAT-CRISP;;Kitchen;COS - K...</td>\n",
       "    </tr>\n",
       "  </tbody>\n",
       "</table>\n",
       "</div>"
      ],
      "text/plain": [
       "                                  Item;Catalog Number;Type;Supplier name;Tag;Unit of measurement;Purchased;Returned;Sold;Wasted;Purchasing deviation (%);Purchasing deviation (€);Beginning inventory;Expected inventory;Ending inventory;Inventory deviation;Inventory deviation (%);Inventory deviation (€)\n",
       "Scone Mixed Berry  1 unit in Unit   1 units in package;MB-SCONE;;Kitchen;COS - Ki...                                                                                                                                                                                                                         \n",
       "Raspberry Brownie  1 unit in Bag    1 units in package;RASP-BROWN;;Kitchen;COS - ...                                                                                                                                                                                                                         \n",
       "Financier Almond   1 unit in Unit   1 units in package;FIN-ALM;;Kitchen;COS - Kit...                                                                                                                                                                                                                         \n",
       "Porridge Oats      750 g in Bag     1 units in package;PORR-OATS;;Kitchen;COS - K...                                                                                                                                                                                                                         \n",
       "Catering Crisps    200 g in Bag     1 units in package;CAT-CRISP;;Kitchen;COS - K...                                                                                                                                                                                                                         "
      ]
     },
     "execution_count": 22,
     "metadata": {},
     "output_type": "execute_result"
    }
   ],
   "source": [
    "df = pd.read_csv(\"daily_sales_csv/06-03-2020—06-03-2020.csv\")\n",
    "\n",
    "files = [file for file in os.listdir('daily_sales_csv')]\n",
    "\n",
    "all_data = pd.DataFrame()\n",
    "\n",
    "for file in files:\n",
    "    df = pd.read_csv(\"daily_sales_csv/\"+file)\n",
    "    all_data = pd.concat([all_data, df])\n",
    "    \n",
    "all_data.head()\n",
    "    \n",
    "# all_data.to_csv(\"all_data.csv\", index=False)"
   ]
  },
  {
   "cell_type": "code",
   "execution_count": null,
   "metadata": {},
   "outputs": [],
   "source": []
  }
 ],
 "metadata": {
  "kernelspec": {
   "display_name": "Python 3",
   "language": "python",
   "name": "python3"
  },
  "language_info": {
   "codemirror_mode": {
    "name": "ipython",
    "version": 3
   },
   "file_extension": ".py",
   "mimetype": "text/x-python",
   "name": "python",
   "nbconvert_exporter": "python",
   "pygments_lexer": "ipython3",
   "version": "3.7.4"
  }
 },
 "nbformat": 4,
 "nbformat_minor": 2
}
