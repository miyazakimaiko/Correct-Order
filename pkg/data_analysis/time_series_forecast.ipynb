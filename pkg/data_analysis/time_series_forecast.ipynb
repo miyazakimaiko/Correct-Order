{
 "cells": [
  {
   "cell_type": "code",
   "execution_count": 1,
   "metadata": {
    "scrolled": true
   },
   "outputs": [
    {
     "name": "stderr",
     "output_type": "stream",
     "text": [
      "/Users/MAIKO/anaconda3/lib/python3.7/site-packages/tensorflow/python/framework/dtypes.py:523: FutureWarning: Passing (type, 1) or '1type' as a synonym of type is deprecated; in a future version of numpy, it will be understood as (type, (1,)) / '(1,)type'.\n",
      "  _np_qint8 = np.dtype([(\"qint8\", np.int8, 1)])\n",
      "/Users/MAIKO/anaconda3/lib/python3.7/site-packages/tensorflow/python/framework/dtypes.py:524: FutureWarning: Passing (type, 1) or '1type' as a synonym of type is deprecated; in a future version of numpy, it will be understood as (type, (1,)) / '(1,)type'.\n",
      "  _np_quint8 = np.dtype([(\"quint8\", np.uint8, 1)])\n",
      "/Users/MAIKO/anaconda3/lib/python3.7/site-packages/tensorflow/python/framework/dtypes.py:525: FutureWarning: Passing (type, 1) or '1type' as a synonym of type is deprecated; in a future version of numpy, it will be understood as (type, (1,)) / '(1,)type'.\n",
      "  _np_qint16 = np.dtype([(\"qint16\", np.int16, 1)])\n",
      "/Users/MAIKO/anaconda3/lib/python3.7/site-packages/tensorflow/python/framework/dtypes.py:526: FutureWarning: Passing (type, 1) or '1type' as a synonym of type is deprecated; in a future version of numpy, it will be understood as (type, (1,)) / '(1,)type'.\n",
      "  _np_quint16 = np.dtype([(\"quint16\", np.uint16, 1)])\n",
      "/Users/MAIKO/anaconda3/lib/python3.7/site-packages/tensorflow/python/framework/dtypes.py:527: FutureWarning: Passing (type, 1) or '1type' as a synonym of type is deprecated; in a future version of numpy, it will be understood as (type, (1,)) / '(1,)type'.\n",
      "  _np_qint32 = np.dtype([(\"qint32\", np.int32, 1)])\n",
      "/Users/MAIKO/anaconda3/lib/python3.7/site-packages/tensorflow/python/framework/dtypes.py:532: FutureWarning: Passing (type, 1) or '1type' as a synonym of type is deprecated; in a future version of numpy, it will be understood as (type, (1,)) / '(1,)type'.\n",
      "  np_resource = np.dtype([(\"resource\", np.ubyte, 1)])\n",
      "/Users/MAIKO/anaconda3/lib/python3.7/site-packages/tensorboard/compat/tensorflow_stub/dtypes.py:541: FutureWarning: Passing (type, 1) or '1type' as a synonym of type is deprecated; in a future version of numpy, it will be understood as (type, (1,)) / '(1,)type'.\n",
      "  _np_qint8 = np.dtype([(\"qint8\", np.int8, 1)])\n",
      "/Users/MAIKO/anaconda3/lib/python3.7/site-packages/tensorboard/compat/tensorflow_stub/dtypes.py:542: FutureWarning: Passing (type, 1) or '1type' as a synonym of type is deprecated; in a future version of numpy, it will be understood as (type, (1,)) / '(1,)type'.\n",
      "  _np_quint8 = np.dtype([(\"quint8\", np.uint8, 1)])\n",
      "/Users/MAIKO/anaconda3/lib/python3.7/site-packages/tensorboard/compat/tensorflow_stub/dtypes.py:543: FutureWarning: Passing (type, 1) or '1type' as a synonym of type is deprecated; in a future version of numpy, it will be understood as (type, (1,)) / '(1,)type'.\n",
      "  _np_qint16 = np.dtype([(\"qint16\", np.int16, 1)])\n",
      "/Users/MAIKO/anaconda3/lib/python3.7/site-packages/tensorboard/compat/tensorflow_stub/dtypes.py:544: FutureWarning: Passing (type, 1) or '1type' as a synonym of type is deprecated; in a future version of numpy, it will be understood as (type, (1,)) / '(1,)type'.\n",
      "  _np_quint16 = np.dtype([(\"quint16\", np.uint16, 1)])\n",
      "/Users/MAIKO/anaconda3/lib/python3.7/site-packages/tensorboard/compat/tensorflow_stub/dtypes.py:545: FutureWarning: Passing (type, 1) or '1type' as a synonym of type is deprecated; in a future version of numpy, it will be understood as (type, (1,)) / '(1,)type'.\n",
      "  _np_qint32 = np.dtype([(\"qint32\", np.int32, 1)])\n",
      "/Users/MAIKO/anaconda3/lib/python3.7/site-packages/tensorboard/compat/tensorflow_stub/dtypes.py:550: FutureWarning: Passing (type, 1) or '1type' as a synonym of type is deprecated; in a future version of numpy, it will be understood as (type, (1,)) / '(1,)type'.\n",
      "  np_resource = np.dtype([(\"resource\", np.ubyte, 1)])\n"
     ]
    }
   ],
   "source": [
    "import tensorflow as tf\n",
    "import pandas as pd\n",
    "import numpy as np\n",
    "import matplotlib.pyplot as plt\n",
    "import os\n",
    "import datetime"
   ]
  },
  {
   "cell_type": "code",
   "execution_count": 2,
   "metadata": {},
   "outputs": [],
   "source": [
    "from tensorflow.keras.models import Sequential\n",
    "from tensorflow.keras.models import Model\n",
    "from tensorflow.keras.optimizers import Adam\n",
    "from tensorflow.keras.layers import LSTM\n",
    "from tensorflow.keras.layers import Dense"
   ]
  },
  {
   "cell_type": "code",
   "execution_count": 3,
   "metadata": {},
   "outputs": [],
   "source": [
    "from numpy import concatenate\n",
    "from sklearn.preprocessing import MinMaxScaler\n",
    "from math import sqrt\n",
    "from sklearn.metrics import mean_squared_error\n",
    "from statsmodels.graphics.tsaplots import plot_acf"
   ]
  },
  {
   "cell_type": "code",
   "execution_count": 6,
   "metadata": {},
   "outputs": [
    {
     "ename": "ValueError",
     "evalue": "Expected object or value",
     "output_type": "error",
     "traceback": [
      "\u001b[0;31m---------------------------------------------------------------------------\u001b[0m",
      "\u001b[0;31mValueError\u001b[0m                                Traceback (most recent call last)",
      "\u001b[0;32m<ipython-input-6-6aedb7677f03>\u001b[0m in \u001b[0;36m<module>\u001b[0;34m\u001b[0m\n\u001b[1;32m     10\u001b[0m \u001b[0;31m#             continue\u001b[0m\u001b[0;34m\u001b[0m\u001b[0;34m\u001b[0m\u001b[0;34m\u001b[0m\u001b[0m\n\u001b[1;32m     11\u001b[0m \u001b[0;34m\u001b[0m\u001b[0m\n\u001b[0;32m---> 12\u001b[0;31m \u001b[0md\u001b[0m \u001b[0;34m=\u001b[0m \u001b[0mpd\u001b[0m\u001b[0;34m.\u001b[0m\u001b[0mread_json\u001b[0m\u001b[0;34m(\u001b[0m\u001b[0;34m'data/sales_01-07-2018_31-09-2020/SAS/7_2018.csv'\u001b[0m\u001b[0;34m)\u001b[0m\u001b[0;34m\u001b[0m\u001b[0;34m\u001b[0m\u001b[0m\n\u001b[0m\u001b[1;32m     13\u001b[0m \u001b[0mframes\u001b[0m\u001b[0;34m.\u001b[0m\u001b[0mappend\u001b[0m\u001b[0;34m(\u001b[0m\u001b[0mpd\u001b[0m\u001b[0;34m.\u001b[0m\u001b[0mDataFrame\u001b[0m\u001b[0;34m(\u001b[0m\u001b[0md\u001b[0m\u001b[0;34m)\u001b[0m\u001b[0;34m)\u001b[0m\u001b[0;34m\u001b[0m\u001b[0;34m\u001b[0m\u001b[0m\n\u001b[1;32m     14\u001b[0m \u001b[0;34m\u001b[0m\u001b[0m\n",
      "\u001b[0;32m~/anaconda3/lib/python3.7/site-packages/pandas/util/_decorators.py\u001b[0m in \u001b[0;36mwrapper\u001b[0;34m(*args, **kwargs)\u001b[0m\n\u001b[1;32m    197\u001b[0m                 \u001b[0;32melse\u001b[0m\u001b[0;34m:\u001b[0m\u001b[0;34m\u001b[0m\u001b[0;34m\u001b[0m\u001b[0m\n\u001b[1;32m    198\u001b[0m                     \u001b[0mkwargs\u001b[0m\u001b[0;34m[\u001b[0m\u001b[0mnew_arg_name\u001b[0m\u001b[0;34m]\u001b[0m \u001b[0;34m=\u001b[0m \u001b[0mnew_arg_value\u001b[0m\u001b[0;34m\u001b[0m\u001b[0;34m\u001b[0m\u001b[0m\n\u001b[0;32m--> 199\u001b[0;31m             \u001b[0;32mreturn\u001b[0m \u001b[0mfunc\u001b[0m\u001b[0;34m(\u001b[0m\u001b[0;34m*\u001b[0m\u001b[0margs\u001b[0m\u001b[0;34m,\u001b[0m \u001b[0;34m**\u001b[0m\u001b[0mkwargs\u001b[0m\u001b[0;34m)\u001b[0m\u001b[0;34m\u001b[0m\u001b[0;34m\u001b[0m\u001b[0m\n\u001b[0m\u001b[1;32m    200\u001b[0m \u001b[0;34m\u001b[0m\u001b[0m\n\u001b[1;32m    201\u001b[0m         \u001b[0;32mreturn\u001b[0m \u001b[0mcast\u001b[0m\u001b[0;34m(\u001b[0m\u001b[0mF\u001b[0m\u001b[0;34m,\u001b[0m \u001b[0mwrapper\u001b[0m\u001b[0;34m)\u001b[0m\u001b[0;34m\u001b[0m\u001b[0;34m\u001b[0m\u001b[0m\n",
      "\u001b[0;32m~/anaconda3/lib/python3.7/site-packages/pandas/util/_decorators.py\u001b[0m in \u001b[0;36mwrapper\u001b[0;34m(*args, **kwargs)\u001b[0m\n\u001b[1;32m    294\u001b[0m                 )\n\u001b[1;32m    295\u001b[0m                 \u001b[0mwarnings\u001b[0m\u001b[0;34m.\u001b[0m\u001b[0mwarn\u001b[0m\u001b[0;34m(\u001b[0m\u001b[0mmsg\u001b[0m\u001b[0;34m,\u001b[0m \u001b[0mFutureWarning\u001b[0m\u001b[0;34m,\u001b[0m \u001b[0mstacklevel\u001b[0m\u001b[0;34m=\u001b[0m\u001b[0mstacklevel\u001b[0m\u001b[0;34m)\u001b[0m\u001b[0;34m\u001b[0m\u001b[0;34m\u001b[0m\u001b[0m\n\u001b[0;32m--> 296\u001b[0;31m             \u001b[0;32mreturn\u001b[0m \u001b[0mfunc\u001b[0m\u001b[0;34m(\u001b[0m\u001b[0;34m*\u001b[0m\u001b[0margs\u001b[0m\u001b[0;34m,\u001b[0m \u001b[0;34m**\u001b[0m\u001b[0mkwargs\u001b[0m\u001b[0;34m)\u001b[0m\u001b[0;34m\u001b[0m\u001b[0;34m\u001b[0m\u001b[0m\n\u001b[0m\u001b[1;32m    297\u001b[0m \u001b[0;34m\u001b[0m\u001b[0m\n\u001b[1;32m    298\u001b[0m         \u001b[0;32mreturn\u001b[0m \u001b[0mwrapper\u001b[0m\u001b[0;34m\u001b[0m\u001b[0;34m\u001b[0m\u001b[0m\n",
      "\u001b[0;32m~/anaconda3/lib/python3.7/site-packages/pandas/io/json/_json.py\u001b[0m in \u001b[0;36mread_json\u001b[0;34m(path_or_buf, orient, typ, dtype, convert_axes, convert_dates, keep_default_dates, numpy, precise_float, date_unit, encoding, lines, chunksize, compression, nrows)\u001b[0m\n\u001b[1;32m    616\u001b[0m         \u001b[0;32mreturn\u001b[0m \u001b[0mjson_reader\u001b[0m\u001b[0;34m\u001b[0m\u001b[0;34m\u001b[0m\u001b[0m\n\u001b[1;32m    617\u001b[0m \u001b[0;34m\u001b[0m\u001b[0m\n\u001b[0;32m--> 618\u001b[0;31m     \u001b[0mresult\u001b[0m \u001b[0;34m=\u001b[0m \u001b[0mjson_reader\u001b[0m\u001b[0;34m.\u001b[0m\u001b[0mread\u001b[0m\u001b[0;34m(\u001b[0m\u001b[0;34m)\u001b[0m\u001b[0;34m\u001b[0m\u001b[0;34m\u001b[0m\u001b[0m\n\u001b[0m\u001b[1;32m    619\u001b[0m     \u001b[0;32mif\u001b[0m \u001b[0mshould_close\u001b[0m\u001b[0;34m:\u001b[0m\u001b[0;34m\u001b[0m\u001b[0;34m\u001b[0m\u001b[0m\n\u001b[1;32m    620\u001b[0m         \u001b[0mfilepath_or_buffer\u001b[0m\u001b[0;34m.\u001b[0m\u001b[0mclose\u001b[0m\u001b[0;34m(\u001b[0m\u001b[0;34m)\u001b[0m\u001b[0;34m\u001b[0m\u001b[0;34m\u001b[0m\u001b[0m\n",
      "\u001b[0;32m~/anaconda3/lib/python3.7/site-packages/pandas/io/json/_json.py\u001b[0m in \u001b[0;36mread\u001b[0;34m(self)\u001b[0m\n\u001b[1;32m    753\u001b[0m                 \u001b[0mobj\u001b[0m \u001b[0;34m=\u001b[0m \u001b[0mself\u001b[0m\u001b[0;34m.\u001b[0m\u001b[0m_get_object_parser\u001b[0m\u001b[0;34m(\u001b[0m\u001b[0mself\u001b[0m\u001b[0;34m.\u001b[0m\u001b[0m_combine_lines\u001b[0m\u001b[0;34m(\u001b[0m\u001b[0mdata\u001b[0m\u001b[0;34m)\u001b[0m\u001b[0;34m)\u001b[0m\u001b[0;34m\u001b[0m\u001b[0;34m\u001b[0m\u001b[0m\n\u001b[1;32m    754\u001b[0m         \u001b[0;32melse\u001b[0m\u001b[0;34m:\u001b[0m\u001b[0;34m\u001b[0m\u001b[0;34m\u001b[0m\u001b[0m\n\u001b[0;32m--> 755\u001b[0;31m             \u001b[0mobj\u001b[0m \u001b[0;34m=\u001b[0m \u001b[0mself\u001b[0m\u001b[0;34m.\u001b[0m\u001b[0m_get_object_parser\u001b[0m\u001b[0;34m(\u001b[0m\u001b[0mself\u001b[0m\u001b[0;34m.\u001b[0m\u001b[0mdata\u001b[0m\u001b[0;34m)\u001b[0m\u001b[0;34m\u001b[0m\u001b[0;34m\u001b[0m\u001b[0m\n\u001b[0m\u001b[1;32m    756\u001b[0m         \u001b[0mself\u001b[0m\u001b[0;34m.\u001b[0m\u001b[0mclose\u001b[0m\u001b[0;34m(\u001b[0m\u001b[0;34m)\u001b[0m\u001b[0;34m\u001b[0m\u001b[0;34m\u001b[0m\u001b[0m\n\u001b[1;32m    757\u001b[0m         \u001b[0;32mreturn\u001b[0m \u001b[0mobj\u001b[0m\u001b[0;34m\u001b[0m\u001b[0;34m\u001b[0m\u001b[0m\n",
      "\u001b[0;32m~/anaconda3/lib/python3.7/site-packages/pandas/io/json/_json.py\u001b[0m in \u001b[0;36m_get_object_parser\u001b[0;34m(self, json)\u001b[0m\n\u001b[1;32m    775\u001b[0m         \u001b[0mobj\u001b[0m \u001b[0;34m=\u001b[0m \u001b[0;32mNone\u001b[0m\u001b[0;34m\u001b[0m\u001b[0;34m\u001b[0m\u001b[0m\n\u001b[1;32m    776\u001b[0m         \u001b[0;32mif\u001b[0m \u001b[0mtyp\u001b[0m \u001b[0;34m==\u001b[0m \u001b[0;34m\"frame\"\u001b[0m\u001b[0;34m:\u001b[0m\u001b[0;34m\u001b[0m\u001b[0;34m\u001b[0m\u001b[0m\n\u001b[0;32m--> 777\u001b[0;31m             \u001b[0mobj\u001b[0m \u001b[0;34m=\u001b[0m \u001b[0mFrameParser\u001b[0m\u001b[0;34m(\u001b[0m\u001b[0mjson\u001b[0m\u001b[0;34m,\u001b[0m \u001b[0;34m**\u001b[0m\u001b[0mkwargs\u001b[0m\u001b[0;34m)\u001b[0m\u001b[0;34m.\u001b[0m\u001b[0mparse\u001b[0m\u001b[0;34m(\u001b[0m\u001b[0;34m)\u001b[0m\u001b[0;34m\u001b[0m\u001b[0;34m\u001b[0m\u001b[0m\n\u001b[0m\u001b[1;32m    778\u001b[0m \u001b[0;34m\u001b[0m\u001b[0m\n\u001b[1;32m    779\u001b[0m         \u001b[0;32mif\u001b[0m \u001b[0mtyp\u001b[0m \u001b[0;34m==\u001b[0m \u001b[0;34m\"series\"\u001b[0m \u001b[0;32mor\u001b[0m \u001b[0mobj\u001b[0m \u001b[0;32mis\u001b[0m \u001b[0;32mNone\u001b[0m\u001b[0;34m:\u001b[0m\u001b[0;34m\u001b[0m\u001b[0;34m\u001b[0m\u001b[0m\n",
      "\u001b[0;32m~/anaconda3/lib/python3.7/site-packages/pandas/io/json/_json.py\u001b[0m in \u001b[0;36mparse\u001b[0;34m(self)\u001b[0m\n\u001b[1;32m    884\u001b[0m \u001b[0;34m\u001b[0m\u001b[0m\n\u001b[1;32m    885\u001b[0m         \u001b[0;32melse\u001b[0m\u001b[0;34m:\u001b[0m\u001b[0;34m\u001b[0m\u001b[0;34m\u001b[0m\u001b[0m\n\u001b[0;32m--> 886\u001b[0;31m             \u001b[0mself\u001b[0m\u001b[0;34m.\u001b[0m\u001b[0m_parse_no_numpy\u001b[0m\u001b[0;34m(\u001b[0m\u001b[0;34m)\u001b[0m\u001b[0;34m\u001b[0m\u001b[0;34m\u001b[0m\u001b[0m\n\u001b[0m\u001b[1;32m    887\u001b[0m \u001b[0;34m\u001b[0m\u001b[0m\n\u001b[1;32m    888\u001b[0m         \u001b[0;32mif\u001b[0m \u001b[0mself\u001b[0m\u001b[0;34m.\u001b[0m\u001b[0mobj\u001b[0m \u001b[0;32mis\u001b[0m \u001b[0;32mNone\u001b[0m\u001b[0;34m:\u001b[0m\u001b[0;34m\u001b[0m\u001b[0;34m\u001b[0m\u001b[0m\n",
      "\u001b[0;32m~/anaconda3/lib/python3.7/site-packages/pandas/io/json/_json.py\u001b[0m in \u001b[0;36m_parse_no_numpy\u001b[0;34m(self)\u001b[0m\n\u001b[1;32m   1117\u001b[0m         \u001b[0;32mif\u001b[0m \u001b[0morient\u001b[0m \u001b[0;34m==\u001b[0m \u001b[0;34m\"columns\"\u001b[0m\u001b[0;34m:\u001b[0m\u001b[0;34m\u001b[0m\u001b[0;34m\u001b[0m\u001b[0m\n\u001b[1;32m   1118\u001b[0m             self.obj = DataFrame(\n\u001b[0;32m-> 1119\u001b[0;31m                 \u001b[0mloads\u001b[0m\u001b[0;34m(\u001b[0m\u001b[0mjson\u001b[0m\u001b[0;34m,\u001b[0m \u001b[0mprecise_float\u001b[0m\u001b[0;34m=\u001b[0m\u001b[0mself\u001b[0m\u001b[0;34m.\u001b[0m\u001b[0mprecise_float\u001b[0m\u001b[0;34m)\u001b[0m\u001b[0;34m,\u001b[0m \u001b[0mdtype\u001b[0m\u001b[0;34m=\u001b[0m\u001b[0;32mNone\u001b[0m\u001b[0;34m\u001b[0m\u001b[0;34m\u001b[0m\u001b[0m\n\u001b[0m\u001b[1;32m   1120\u001b[0m             )\n\u001b[1;32m   1121\u001b[0m         \u001b[0;32melif\u001b[0m \u001b[0morient\u001b[0m \u001b[0;34m==\u001b[0m \u001b[0;34m\"split\"\u001b[0m\u001b[0;34m:\u001b[0m\u001b[0;34m\u001b[0m\u001b[0;34m\u001b[0m\u001b[0m\n",
      "\u001b[0;31mValueError\u001b[0m: Expected object or value"
     ]
    }
   ],
   "source": [
    "frames = []\n",
    "years = ['2018', '2019', '2020']\n",
    "\n",
    "# for year in years:\n",
    "#     for i in range(1, 13):\n",
    "#         try:\n",
    "#             d = pd.read_json('data/sales_01-07-2018_31-09-2020/SAS/{}_{}.json'.format(i, year))\n",
    "#             frames.append(pd.DataFrame(d))\n",
    "#         except:\n",
    "#             continue\n",
    "\n",
    "d = pd.read_json('data/sales_01-07-2018_31-09-2020/SAS/7_2018.csv')\n",
    "frames.append(pd.DataFrame(d))\n",
    "\n",
    "df = pd.concat(frames)\n",
    "df = df.reset_index(drop=True)"
   ]
  },
  {
   "cell_type": "code",
   "execution_count": null,
   "metadata": {},
   "outputs": [],
   "source": [
    "from datetime import datetime\n",
    "\n",
    "for i in df.index:\n",
    "    c = df.loc[i, 'category']\n",
    "    id = df.loc[i, 'id']\n",
    "\n",
    "    if c == 'bakedgoods':\n",
    "        df.loc[i, 'category'] = 1\n",
    "    elif c == 'breakfast':\n",
    "        df.loc[i, 'category'] = 2\n",
    "    elif c == 'lunch':\n",
    "        df.loc[i, 'category'] = 3"
   ]
  },
  {
   "cell_type": "code",
   "execution_count": null,
   "metadata": {
    "scrolled": true
   },
   "outputs": [],
   "source": [
    "df = df.dropna()\n",
    "df"
   ]
  },
  {
   "cell_type": "code",
   "execution_count": null,
   "metadata": {},
   "outputs": [],
   "source": [
    "df = df.drop(df[(df.prevdaysales1 == 0) & (df.prevdaysales2 == 0) & (df.prevdaysales3 == 0)].index)\n",
    "\n",
    "df_names = df.iloc[:, 1]\n",
    "\n",
    "df = df.drop(['name', 'date', 'category', 'weeknum', 'year', \n",
    "              'temp', 'growth', 'month'], axis=1)"
   ]
  },
  {
   "cell_type": "code",
   "execution_count": null,
   "metadata": {},
   "outputs": [],
   "source": [
    "df_names"
   ]
  },
  {
   "cell_type": "code",
   "execution_count": null,
   "metadata": {},
   "outputs": [],
   "source": [
    "pd.set_option('display.max_rows', None)\n",
    "\n",
    "df_single_item = df"
   ]
  },
  {
   "cell_type": "code",
   "execution_count": null,
   "metadata": {},
   "outputs": [],
   "source": [
    "## calculate sales growth of this week compared to last week\n",
    "\n",
    "# for i in df_single_item.index:\n",
    "#     current_week = 0\n",
    "#     last_week = 0\n",
    "#     for num in range(1, 3):\n",
    "#         current_week += df_single_item.loc[i, 'prevdaysales{}'.format(num)]\n",
    "#     for num in range(8, 10):\n",
    "#         last_week += df_single_item.loc[i, 'prevdaysales{}'.format(num)]\n",
    "        \n",
    "#     change = ((current_week - last_week) / last_week) * 100\n",
    "#     change = format(change, '.1f')\n",
    "#     df_single_item.loc[i, 'growth'] = change"
   ]
  },
  {
   "cell_type": "code",
   "execution_count": null,
   "metadata": {},
   "outputs": [],
   "source": [
    "# cols = df_single_item.columns.tolist()\n",
    "# cols = cols[:-2] + [cols[-1]] + [cols[-2]]\n",
    "# cols"
   ]
  },
  {
   "cell_type": "code",
   "execution_count": null,
   "metadata": {},
   "outputs": [],
   "source": [
    "# df_single_item = df_single_item[cols]"
   ]
  },
  {
   "cell_type": "code",
   "execution_count": null,
   "metadata": {},
   "outputs": [],
   "source": [
    "pd.set_option('display.max_columns', None)\n",
    "\n",
    "df_single_item = df_single_item.replace(['inf', 'inf', 'nan'], 0.0)"
   ]
  },
  {
   "cell_type": "code",
   "execution_count": null,
   "metadata": {
    "scrolled": true
   },
   "outputs": [],
   "source": [
    "df_single_item"
   ]
  },
  {
   "cell_type": "code",
   "execution_count": null,
   "metadata": {},
   "outputs": [],
   "source": [
    "dataset = df_single_item.values\n",
    "scaler = MinMaxScaler(feature_range=(0, 1))\n",
    "dataset = scaler.fit_transform(dataset)"
   ]
  },
  {
   "cell_type": "code",
   "execution_count": null,
   "metadata": {},
   "outputs": [],
   "source": [
    "pd.DataFrame(dataset)"
   ]
  },
  {
   "cell_type": "code",
   "execution_count": null,
   "metadata": {},
   "outputs": [],
   "source": [
    "train_size = int(len(dataset) * 0.90)\n",
    "test_size = len(dataset) - train_size\n",
    "train, test = dataset[0:train_size,:], dataset[train_size:len(dataset),:]\n",
    "train_X, train_y = train[:, :-1], train[:, -1]\n",
    "test_X, test_y = test[:, :-1], test[:, -1]\n",
    "test_names = df_names[train_size:len(dataset)]\n",
    "print(train_X.shape, train_y.shape, test_X.shape, test_y.shape)"
   ]
  },
  {
   "cell_type": "code",
   "execution_count": 271,
   "metadata": {},
   "outputs": [],
   "source": [
    "test_names = test_names.index.astype(str) + ' ' + test_names.values"
   ]
  },
  {
   "cell_type": "code",
   "execution_count": 272,
   "metadata": {},
   "outputs": [
    {
     "name": "stdout",
     "output_type": "stream",
     "text": [
      "(438, 1, 19) (438,) (49, 1, 19) (49,)\n"
     ]
    }
   ],
   "source": [
    "train_X = train_X.reshape((train_X.shape[0], 1, train_X.shape[1])) \n",
    "test_X = test_X.reshape((test_X.shape[0], 1, test_X.shape[1]))\n",
    "print(train_X.shape, train_y.shape, test_X.shape, test_y.shape)"
   ]
  },
  {
   "cell_type": "code",
   "execution_count": 273,
   "metadata": {},
   "outputs": [],
   "source": [
    "model = Sequential()\n",
    "model.add(LSTM(8, input_shape=(train_X.shape[1], train_X.shape[2])))\n",
    "model.add(Dense(1))\n",
    "model.compile(loss='mean_squared_error', optimizer='adam')"
   ]
  },
  {
   "cell_type": "code",
   "execution_count": 274,
   "metadata": {},
   "outputs": [],
   "source": [
    "# opt = Adam(lr=0.001)\n",
    "    \n",
    "# inp_seq = Input(shape=(train_X.shape[1], train_X.shape[2]))\n",
    "\n",
    "# x = Bidirectional(GRU(16, return_sequences=True))(inp_seq)\n",
    "# x = AveragePooling1D(1)(x)\n",
    "# x = Conv1D(16, 1)(x)\n",
    "# x = Flatten()(x)\n",
    "# # x = Dense(16, activation='relu')(x)\n",
    "\n",
    "# out = Dense(1)(x)\n",
    "\n",
    "# model = Model(inp_seq, out)\n",
    "# model.compile(optimizer=opt, loss='mse')"
   ]
  },
  {
   "cell_type": "code",
   "execution_count": 275,
   "metadata": {
    "scrolled": true
   },
   "outputs": [
    {
     "name": "stdout",
     "output_type": "stream",
     "text": [
      "Train on 438 samples, validate on 49 samples\n",
      "Epoch 1/80\n",
      "438/438 - 1s - loss: 0.0549 - val_loss: 0.0237\n",
      "Epoch 2/80\n",
      "438/438 - 0s - loss: 0.0288 - val_loss: 0.0164\n",
      "Epoch 3/80\n",
      "438/438 - 0s - loss: 0.0220 - val_loss: 0.0207\n",
      "Epoch 4/80\n",
      "438/438 - 0s - loss: 0.0221 - val_loss: 0.0222\n",
      "Epoch 5/80\n",
      "438/438 - 0s - loss: 0.0214 - val_loss: 0.0212\n",
      "Epoch 6/80\n",
      "438/438 - 0s - loss: 0.0204 - val_loss: 0.0210\n",
      "Epoch 7/80\n",
      "438/438 - 0s - loss: 0.0196 - val_loss: 0.0217\n",
      "Epoch 8/80\n",
      "438/438 - 0s - loss: 0.0191 - val_loss: 0.0226\n",
      "Epoch 9/80\n",
      "438/438 - 0s - loss: 0.0187 - val_loss: 0.0233\n",
      "Epoch 10/80\n",
      "438/438 - 0s - loss: 0.0183 - val_loss: 0.0238\n",
      "Epoch 11/80\n",
      "438/438 - 0s - loss: 0.0179 - val_loss: 0.0244\n",
      "Epoch 12/80\n",
      "438/438 - 0s - loss: 0.0177 - val_loss: 0.0249\n",
      "Epoch 13/80\n",
      "438/438 - 0s - loss: 0.0174 - val_loss: 0.0253\n",
      "Epoch 14/80\n",
      "438/438 - 0s - loss: 0.0172 - val_loss: 0.0257\n",
      "Epoch 15/80\n",
      "438/438 - 0s - loss: 0.0170 - val_loss: 0.0260\n",
      "Epoch 16/80\n",
      "438/438 - 0s - loss: 0.0169 - val_loss: 0.0263\n",
      "Epoch 17/80\n",
      "438/438 - 0s - loss: 0.0167 - val_loss: 0.0265\n",
      "Epoch 18/80\n",
      "438/438 - 0s - loss: 0.0166 - val_loss: 0.0267\n",
      "Epoch 19/80\n",
      "438/438 - 0s - loss: 0.0165 - val_loss: 0.0268\n",
      "Epoch 20/80\n",
      "438/438 - 0s - loss: 0.0163 - val_loss: 0.0269\n",
      "Epoch 21/80\n",
      "438/438 - 0s - loss: 0.0162 - val_loss: 0.0270\n",
      "Epoch 22/80\n",
      "438/438 - 0s - loss: 0.0161 - val_loss: 0.0271\n",
      "Epoch 23/80\n",
      "438/438 - 0s - loss: 0.0160 - val_loss: 0.0272\n",
      "Epoch 24/80\n",
      "438/438 - 0s - loss: 0.0159 - val_loss: 0.0272\n",
      "Epoch 25/80\n",
      "438/438 - 0s - loss: 0.0159 - val_loss: 0.0273\n",
      "Epoch 26/80\n",
      "438/438 - 0s - loss: 0.0158 - val_loss: 0.0273\n",
      "Epoch 27/80\n",
      "438/438 - 0s - loss: 0.0157 - val_loss: 0.0273\n",
      "Epoch 28/80\n",
      "438/438 - 0s - loss: 0.0156 - val_loss: 0.0274\n",
      "Epoch 29/80\n",
      "438/438 - 0s - loss: 0.0156 - val_loss: 0.0274\n",
      "Epoch 30/80\n",
      "438/438 - 0s - loss: 0.0155 - val_loss: 0.0274\n",
      "Epoch 31/80\n",
      "438/438 - 0s - loss: 0.0154 - val_loss: 0.0274\n",
      "Epoch 32/80\n",
      "438/438 - 0s - loss: 0.0154 - val_loss: 0.0274\n",
      "Epoch 33/80\n",
      "438/438 - 0s - loss: 0.0153 - val_loss: 0.0274\n",
      "Epoch 34/80\n",
      "438/438 - 0s - loss: 0.0153 - val_loss: 0.0275\n",
      "Epoch 35/80\n",
      "438/438 - 0s - loss: 0.0152 - val_loss: 0.0275\n",
      "Epoch 36/80\n",
      "438/438 - 0s - loss: 0.0152 - val_loss: 0.0275\n",
      "Epoch 37/80\n",
      "438/438 - 0s - loss: 0.0151 - val_loss: 0.0275\n",
      "Epoch 38/80\n",
      "438/438 - 0s - loss: 0.0151 - val_loss: 0.0275\n",
      "Epoch 39/80\n",
      "438/438 - 0s - loss: 0.0150 - val_loss: 0.0276\n",
      "Epoch 40/80\n",
      "438/438 - 0s - loss: 0.0150 - val_loss: 0.0276\n",
      "Epoch 41/80\n",
      "438/438 - 0s - loss: 0.0149 - val_loss: 0.0276\n",
      "Epoch 42/80\n",
      "438/438 - 0s - loss: 0.0149 - val_loss: 0.0276\n",
      "Epoch 43/80\n",
      "438/438 - 0s - loss: 0.0149 - val_loss: 0.0277\n",
      "Epoch 44/80\n",
      "438/438 - 0s - loss: 0.0148 - val_loss: 0.0277\n",
      "Epoch 45/80\n",
      "438/438 - 0s - loss: 0.0148 - val_loss: 0.0277\n",
      "Epoch 46/80\n",
      "438/438 - 0s - loss: 0.0147 - val_loss: 0.0277\n",
      "Epoch 47/80\n",
      "438/438 - 0s - loss: 0.0147 - val_loss: 0.0278\n",
      "Epoch 48/80\n",
      "438/438 - 0s - loss: 0.0147 - val_loss: 0.0278\n",
      "Epoch 49/80\n",
      "438/438 - 0s - loss: 0.0147 - val_loss: 0.0278\n",
      "Epoch 50/80\n",
      "438/438 - 0s - loss: 0.0146 - val_loss: 0.0279\n",
      "Epoch 51/80\n",
      "438/438 - 0s - loss: 0.0146 - val_loss: 0.0279\n",
      "Epoch 52/80\n",
      "438/438 - 0s - loss: 0.0146 - val_loss: 0.0279\n",
      "Epoch 53/80\n",
      "438/438 - 0s - loss: 0.0145 - val_loss: 0.0280\n",
      "Epoch 54/80\n",
      "438/438 - 0s - loss: 0.0145 - val_loss: 0.0280\n",
      "Epoch 55/80\n",
      "438/438 - 0s - loss: 0.0145 - val_loss: 0.0280\n",
      "Epoch 56/80\n",
      "438/438 - 0s - loss: 0.0145 - val_loss: 0.0280\n",
      "Epoch 57/80\n",
      "438/438 - 0s - loss: 0.0144 - val_loss: 0.0281\n",
      "Epoch 58/80\n",
      "438/438 - 0s - loss: 0.0144 - val_loss: 0.0281\n",
      "Epoch 59/80\n",
      "438/438 - 0s - loss: 0.0144 - val_loss: 0.0281\n",
      "Epoch 60/80\n",
      "438/438 - 0s - loss: 0.0144 - val_loss: 0.0282\n",
      "Epoch 61/80\n",
      "438/438 - 0s - loss: 0.0144 - val_loss: 0.0282\n",
      "Epoch 62/80\n",
      "438/438 - 0s - loss: 0.0143 - val_loss: 0.0282\n",
      "Epoch 63/80\n",
      "438/438 - 0s - loss: 0.0143 - val_loss: 0.0283\n",
      "Epoch 64/80\n",
      "438/438 - 0s - loss: 0.0143 - val_loss: 0.0283\n",
      "Epoch 65/80\n",
      "438/438 - 0s - loss: 0.0143 - val_loss: 0.0283\n",
      "Epoch 66/80\n",
      "438/438 - 0s - loss: 0.0143 - val_loss: 0.0284\n",
      "Epoch 67/80\n",
      "438/438 - 0s - loss: 0.0142 - val_loss: 0.0284\n",
      "Epoch 68/80\n",
      "438/438 - 0s - loss: 0.0142 - val_loss: 0.0284\n",
      "Epoch 69/80\n",
      "438/438 - 0s - loss: 0.0142 - val_loss: 0.0285\n",
      "Epoch 70/80\n",
      "438/438 - 0s - loss: 0.0142 - val_loss: 0.0285\n",
      "Epoch 71/80\n",
      "438/438 - 0s - loss: 0.0142 - val_loss: 0.0285\n",
      "Epoch 72/80\n",
      "438/438 - 0s - loss: 0.0142 - val_loss: 0.0285\n",
      "Epoch 73/80\n",
      "438/438 - 0s - loss: 0.0141 - val_loss: 0.0286\n",
      "Epoch 74/80\n",
      "438/438 - 0s - loss: 0.0141 - val_loss: 0.0286\n",
      "Epoch 75/80\n",
      "438/438 - 0s - loss: 0.0141 - val_loss: 0.0286\n",
      "Epoch 76/80\n",
      "438/438 - 0s - loss: 0.0141 - val_loss: 0.0287\n",
      "Epoch 77/80\n",
      "438/438 - 0s - loss: 0.0141 - val_loss: 0.0287\n",
      "Epoch 78/80\n",
      "438/438 - 0s - loss: 0.0141 - val_loss: 0.0287\n",
      "Epoch 79/80\n",
      "438/438 - 0s - loss: 0.0141 - val_loss: 0.0288\n",
      "Epoch 80/80\n",
      "438/438 - 0s - loss: 0.0140 - val_loss: 0.0288\n"
     ]
    },
    {
     "data": {
      "image/png": "[encoded data removed]",
      "text/plain": [
       "<Figure size 432x288 with 1 Axes>"
      ]
     },
     "metadata": {
      "needs_background": "light"
     },
     "output_type": "display_data"
    }
   ],
   "source": [
    "history = model.fit(train_X, train_y, epochs=80, validation_data=(test_X, test_y), verbose=2, shuffle=False)\n",
    "\n",
    "plt.plot(history.history['loss'], label='train')\n",
    "plt.plot(history.history['val_loss'], label='test')\n",
    "plt.legend()\n",
    "plt.show()"
   ]
  },
  {
   "cell_type": "code",
   "execution_count": 276,
   "metadata": {},
   "outputs": [],
   "source": [
    "#prediction on training and testing data\n",
    "train_predict = model.predict(train_X)    \n",
    "test_predict = model.predict(test_X)       \n",
    "\n",
    "#converting from three dimension to two dimension\n",
    "train_X = train_X.reshape((train_X.shape[0], train_X.shape[2]))\n",
    "test_X = test_X.reshape((test_X.shape[0], test_X.shape[2]))"
   ]
  },
  {
   "cell_type": "code",
   "execution_count": 277,
   "metadata": {},
   "outputs": [
    {
     "data": {
      "text/plain": [
       "array([[ 2.9467037e-01],\n",
       "       [ 2.6710024e-01],\n",
       "       [ 2.3413508e-01],\n",
       "       [ 4.0201950e-01],\n",
       "       [ 1.8788569e-01],\n",
       "       [ 2.9375038e-01],\n",
       "       [ 3.1362861e-01],\n",
       "       [ 1.0539393e-01],\n",
       "       [ 1.8371849e-01],\n",
       "       [ 1.0281814e-02],\n",
       "       [ 8.1734523e-02],\n",
       "       [ 8.4203400e-02],\n",
       "       [ 1.3189681e-01],\n",
       "       [ 8.8552907e-02],\n",
       "       [ 1.5548045e-02],\n",
       "       [ 4.8029059e-01],\n",
       "       [ 3.0669546e-01],\n",
       "       [ 3.3056253e-01],\n",
       "       [ 2.4397781e-01],\n",
       "       [ 3.8761088e-01],\n",
       "       [ 3.0585110e-01],\n",
       "       [ 1.5376683e-01],\n",
       "       [ 2.9910928e-01],\n",
       "       [ 5.8566406e-02],\n",
       "       [ 1.4125998e-01],\n",
       "       [ 1.6895260e-01],\n",
       "       [ 1.3149573e-01],\n",
       "       [ 9.6102711e-05],\n",
       "       [ 1.9917985e-02],\n",
       "       [ 2.1007596e-01],\n",
       "       [ 1.2582943e-01],\n",
       "       [ 4.1273177e-01],\n",
       "       [ 3.2003355e-01],\n",
       "       [ 3.8021395e-01],\n",
       "       [ 3.4345144e-01],\n",
       "       [ 2.0949186e-01],\n",
       "       [ 3.6339974e-01],\n",
       "       [ 3.5292584e-01],\n",
       "       [ 1.1526961e-02],\n",
       "       [ 1.2866321e-01],\n",
       "       [ 2.6971871e-01],\n",
       "       [ 7.7442199e-02],\n",
       "       [ 1.6616155e-01],\n",
       "       [ 1.6779664e-01],\n",
       "       [ 1.2645207e-01],\n",
       "       [-6.8113254e-04],\n",
       "       [ 8.9805037e-02],\n",
       "       [ 1.5162388e-02],\n",
       "       [ 5.0705111e-01],\n",
       "       [ 3.7106949e-01],\n",
       "       [ 4.5484307e-01],\n",
       "       [ 2.9375899e-01],\n",
       "       [ 1.3211049e-01],\n",
       "       [ 4.7286153e-01],\n",
       "       [ 3.8858292e-01],\n",
       "       [ 8.2265120e-03],\n",
       "       [ 1.6728412e-01],\n",
       "       [ 2.9870790e-01],\n",
       "       [ 5.8186576e-02],\n",
       "       [ 1.6024679e-01],\n",
       "       [ 1.2590526e-01],\n",
       "       [ 6.1934248e-02],\n",
       "       [ 1.6389741e-01],\n",
       "       [ 8.6573213e-03],\n",
       "       [ 2.9995251e-03],\n",
       "       [-1.4157319e-02],\n",
       "       [ 5.6845236e-01],\n",
       "       [ 3.9129615e-01],\n",
       "       [ 4.7690678e-01],\n",
       "       [ 4.5817727e-01],\n",
       "       [ 2.6804474e-01],\n",
       "       [ 4.5284200e-01],\n",
       "       [ 4.0663362e-01],\n",
       "       [ 1.6291268e-01],\n",
       "       [ 2.6988454e-02],\n",
       "       [ 3.1728238e-01],\n",
       "       [ 4.8394665e-02],\n",
       "       [ 2.0774148e-01],\n",
       "       [ 1.7049831e-01],\n",
       "       [ 1.0568846e-01],\n",
       "       [ 1.7666467e-01],\n",
       "       [ 2.0586077e-02],\n",
       "       [ 1.0485686e-02],\n",
       "       [-8.8666845e-03],\n",
       "       [ 3.7847707e-01],\n",
       "       [ 4.2060518e-01],\n",
       "       [ 4.1187873e-01],\n",
       "       [ 5.2933627e-01],\n",
       "       [ 4.3124151e-01],\n",
       "       [ 1.7776991e-01],\n",
       "       [ 3.7535852e-01],\n",
       "       [ 1.4902361e-01],\n",
       "       [ 2.5593136e-02],\n",
       "       [ 2.7718276e-01],\n",
       "       [ 4.6994183e-02],\n",
       "       [ 1.7132455e-01],\n",
       "       [ 9.8914295e-02],\n",
       "       [ 1.8240075e-01],\n",
       "       [ 1.8770798e-01],\n",
       "       [-3.5528583e-03],\n",
       "       [ 1.1204544e-02],\n",
       "       [-1.9863755e-02],\n",
       "       [ 4.0803158e-01],\n",
       "       [ 2.8681421e-01],\n",
       "       [ 2.5955409e-01],\n",
       "       [ 2.6415363e-01],\n",
       "       [ 1.8184465e-01],\n",
       "       [ 3.3298564e-01],\n",
       "       [ 3.4241351e-01],\n",
       "       [ 1.4261244e-01],\n",
       "       [ 2.3654923e-01],\n",
       "       [ 6.9791421e-02],\n",
       "       [ 1.8226446e-01],\n",
       "       [ 1.7062284e-01],\n",
       "       [ 1.3208845e-01],\n",
       "       [ 1.6570266e-01],\n",
       "       [ 4.6478212e-02],\n",
       "       [ 1.1850305e-02],\n",
       "       [ 4.4498140e-01],\n",
       "       [ 2.9190817e-01],\n",
       "       [ 3.4787410e-01],\n",
       "       [ 2.8570965e-01],\n",
       "       [ 1.5891518e-01],\n",
       "       [ 3.4459564e-01],\n",
       "       [ 3.2855973e-01],\n",
       "       [ 1.3297693e-01],\n",
       "       [ 5.4173931e-02],\n",
       "       [ 2.8780550e-01],\n",
       "       [ 9.5935874e-02],\n",
       "       [ 1.4726464e-01],\n",
       "       [ 1.0909987e-01],\n",
       "       [ 1.5125333e-01],\n",
       "       [ 1.3884349e-01],\n",
       "       [ 4.9649060e-01],\n",
       "       [ 3.4976703e-01],\n",
       "       [ 4.7076216e-01],\n",
       "       [ 2.5552323e-01],\n",
       "       [ 1.4791416e-01],\n",
       "       [ 4.0890265e-01],\n",
       "       [ 2.9525352e-01],\n",
       "       [ 1.9014253e-01],\n",
       "       [ 3.2147799e-02],\n",
       "       [ 3.3851027e-01],\n",
       "       [ 1.0263361e-01],\n",
       "       [ 2.2991236e-01],\n",
       "       [ 9.7084224e-02],\n",
       "       [ 1.8907216e-01],\n",
       "       [ 1.6989586e-01],\n",
       "       [ 1.8635996e-02],\n",
       "       [ 2.1932810e-03],\n",
       "       [ 4.4872034e-01],\n",
       "       [ 3.5731715e-01],\n",
       "       [ 3.8862944e-01],\n",
       "       [ 3.1788009e-01],\n",
       "       [ 1.8554044e-01],\n",
       "       [ 2.9541644e-01],\n",
       "       [ 4.1058940e-01],\n",
       "       [ 1.4572455e-01],\n",
       "       [ 5.7330374e-02],\n",
       "       [ 3.0736369e-01],\n",
       "       [ 1.3795874e-01],\n",
       "       [ 1.4383383e-01],\n",
       "       [ 1.7843886e-01],\n",
       "       [ 7.8187823e-02],\n",
       "       [ 3.2981545e-02],\n",
       "       [ 1.5069629e-01],\n",
       "       [ 2.7026772e-02],\n",
       "       [ 1.8135354e-02],\n",
       "       [ 5.0142497e-01],\n",
       "       [ 4.5769203e-01],\n",
       "       [ 3.9105314e-01],\n",
       "       [ 3.3345997e-01],\n",
       "       [ 1.9829205e-01],\n",
       "       [ 3.8348225e-01],\n",
       "       [ 4.2092240e-01],\n",
       "       [ 1.9197302e-01],\n",
       "       [ 4.0701617e-02],\n",
       "       [ 3.1326431e-01],\n",
       "       [ 1.1073120e-01],\n",
       "       [ 1.8989874e-01],\n",
       "       [ 1.7061649e-01],\n",
       "       [ 1.9143359e-01],\n",
       "       [ 1.1871765e-01],\n",
       "       [ 4.0993132e-02],\n",
       "       [ 2.0251846e-02],\n",
       "       [-3.8664625e-03],\n",
       "       [ 4.4391993e-01],\n",
       "       [ 4.2672434e-01],\n",
       "       [ 3.8101271e-01],\n",
       "       [ 2.7341348e-01],\n",
       "       [ 3.5149944e-01],\n",
       "       [ 4.7560903e-01],\n",
       "       [ 6.2694061e-01],\n",
       "       [ 2.6505631e-01],\n",
       "       [ 6.5651447e-02],\n",
       "       [ 3.9685357e-01],\n",
       "       [ 1.1296347e-01],\n",
       "       [ 2.2395797e-01],\n",
       "       [ 2.7743658e-01],\n",
       "       [ 2.6754415e-01],\n",
       "       [ 1.7358468e-01],\n",
       "       [ 4.7080174e-02],\n",
       "       [ 4.7161800e-01],\n",
       "       [ 3.6185217e-01],\n",
       "       [ 3.1049633e-01],\n",
       "       [ 4.2398897e-01],\n",
       "       [ 4.4693193e-01],\n",
       "       [ 4.9759197e-01],\n",
       "       [ 1.9079603e-01],\n",
       "       [ 3.3910385e-01],\n",
       "       [ 2.0452888e-01],\n",
       "       [ 1.6844882e-01],\n",
       "       [ 2.1138491e-01],\n",
       "       [ 1.5252881e-01],\n",
       "       [ 9.8079689e-02],\n",
       "       [ 4.3858357e-02],\n",
       "       [ 6.1732657e-02],\n",
       "       [ 1.5571104e-01],\n",
       "       [ 4.9235386e-01],\n",
       "       [ 3.6322203e-01],\n",
       "       [ 3.1159201e-01],\n",
       "       [ 3.4292451e-01],\n",
       "       [ 1.4755000e-01],\n",
       "       [ 3.8135731e-01],\n",
       "       [ 3.2507259e-01],\n",
       "       [ 2.1310040e-01],\n",
       "       [ 2.9006952e-01],\n",
       "       [ 1.3153856e-01],\n",
       "       [ 2.6407158e-01],\n",
       "       [ 2.2915003e-01],\n",
       "       [ 1.9359988e-01],\n",
       "       [ 1.2472901e-01],\n",
       "       [ 5.2629858e-02],\n",
       "       [ 4.6520409e-01],\n",
       "       [ 3.8264826e-01],\n",
       "       [ 3.8506413e-01],\n",
       "       [ 2.7885151e-01],\n",
       "       [ 1.4424388e-01],\n",
       "       [ 3.2129309e-01],\n",
       "       [ 3.2686263e-01],\n",
       "       [ 1.8136151e-01],\n",
       "       [ 4.9885772e-02],\n",
       "       [ 2.7446207e-01],\n",
       "       [ 1.5960355e-01],\n",
       "       [ 2.2784719e-01],\n",
       "       [ 1.9992290e-01],\n",
       "       [ 1.3612072e-01],\n",
       "       [ 2.0827599e-01],\n",
       "       [ 5.0389074e-02],\n",
       "       [ 4.6062317e-02],\n",
       "       [ 4.2964470e-01],\n",
       "       [ 4.8373482e-01],\n",
       "       [ 3.2272816e-01],\n",
       "       [ 4.6294165e-01],\n",
       "       [ 1.9306199e-01],\n",
       "       [ 3.7293756e-01],\n",
       "       [ 3.5868230e-01],\n",
       "       [ 2.2797333e-01],\n",
       "       [ 5.9397161e-02],\n",
       "       [ 3.3527672e-01],\n",
       "       [ 1.7839666e-01],\n",
       "       [ 2.9355550e-01],\n",
       "       [ 2.5565141e-01],\n",
       "       [ 2.3865797e-01],\n",
       "       [ 1.6345118e-01],\n",
       "       [ 6.2268689e-02],\n",
       "       [ 4.9828958e-02],\n",
       "       [ 4.7898927e-01],\n",
       "       [ 3.5422575e-01],\n",
       "       [ 3.8594198e-01],\n",
       "       [ 3.6277103e-01],\n",
       "       [ 1.8636341e-01],\n",
       "       [ 3.4185827e-01],\n",
       "       [ 4.0235400e-01],\n",
       "       [ 8.2420312e-02],\n",
       "       [ 2.2015665e-01],\n",
       "       [ 3.3462149e-01],\n",
       "       [ 1.8648066e-01],\n",
       "       [ 2.8584790e-01],\n",
       "       [ 2.7108026e-01],\n",
       "       [ 3.0850449e-01],\n",
       "       [ 1.8718539e-01],\n",
       "       [ 7.9732105e-02],\n",
       "       [ 3.4824625e-02],\n",
       "       [ 6.2548238e-01],\n",
       "       [ 4.9461600e-01],\n",
       "       [ 4.0323344e-01],\n",
       "       [ 4.0038493e-01],\n",
       "       [ 4.2535335e-01],\n",
       "       [ 2.0456938e-01],\n",
       "       [ 4.2085302e-01],\n",
       "       [ 2.5211573e-01],\n",
       "       [ 3.3311671e-01],\n",
       "       [ 2.0330550e-01],\n",
       "       [ 3.2796550e-01],\n",
       "       [ 2.2047131e-01],\n",
       "       [ 2.3738223e-01],\n",
       "       [ 2.6381257e-01],\n",
       "       [ 2.2669317e-02],\n",
       "       [ 8.4821738e-02],\n",
       "       [ 4.9427676e-01],\n",
       "       [ 5.5934680e-01],\n",
       "       [ 4.4202745e-01],\n",
       "       [ 6.6843224e-01],\n",
       "       [ 2.6402700e-01],\n",
       "       [ 4.1575497e-01],\n",
       "       [ 4.5898157e-01],\n",
       "       [ 2.7596509e-01],\n",
       "       [ 8.7999940e-02],\n",
       "       [ 4.6450841e-01],\n",
       "       [ 3.7760353e-01],\n",
       "       [ 3.3868688e-01],\n",
       "       [ 2.7329758e-01],\n",
       "       [ 2.1677721e-01],\n",
       "       [ 1.7078204e-01],\n",
       "       [ 4.9455512e-01],\n",
       "       [ 5.1210856e-01],\n",
       "       [ 4.0202969e-01],\n",
       "       [ 1.8088321e-01],\n",
       "       [ 4.3200082e-01],\n",
       "       [ 4.0376419e-01],\n",
       "       [ 5.9212387e-01],\n",
       "       [ 2.0701680e-01],\n",
       "       [ 4.8501372e-01],\n",
       "       [ 2.8394151e-01],\n",
       "       [ 2.5241223e-01],\n",
       "       [ 2.8657299e-01],\n",
       "       [ 1.4057307e-01],\n",
       "       [ 7.0786119e-02],\n",
       "       [ 1.8661414e-01],\n",
       "       [ 5.5241132e-01],\n",
       "       [ 4.0313309e-01],\n",
       "       [ 3.8492718e-01],\n",
       "       [ 3.6255595e-01],\n",
       "       [ 2.1183963e-01],\n",
       "       [ 4.5225888e-01],\n",
       "       [ 3.7435442e-01],\n",
       "       [ 2.3142637e-01],\n",
       "       [ 3.3295611e-01],\n",
       "       [ 2.0773201e-01],\n",
       "       [ 2.6689962e-01],\n",
       "       [ 2.5830698e-01],\n",
       "       [ 1.7796277e-01],\n",
       "       [ 2.7444008e-01],\n",
       "       [ 6.9812238e-02],\n",
       "       [ 8.3833590e-02],\n",
       "       [ 5.7324761e-01],\n",
       "       [ 4.6553129e-01],\n",
       "       [ 4.4528529e-01],\n",
       "       [ 3.6977053e-01],\n",
       "       [ 2.5807205e-01],\n",
       "       [ 4.1226229e-01],\n",
       "       [ 4.7071964e-01],\n",
       "       [ 2.6281363e-01],\n",
       "       [ 4.3277952e-01],\n",
       "       [ 1.8267693e-01],\n",
       "       [ 3.0604661e-01],\n",
       "       [ 2.9431313e-01],\n",
       "       [ 2.6656228e-01],\n",
       "       [ 1.6488324e-01],\n",
       "       [ 6.0636207e-02],\n",
       "       [ 5.6578409e-02],\n",
       "       [ 5.6288660e-01],\n",
       "       [ 4.6896458e-01],\n",
       "       [ 4.2374939e-01],\n",
       "       [ 4.0437818e-01],\n",
       "       [ 2.4760677e-01],\n",
       "       [ 4.8400912e-01],\n",
       "       [ 4.2607272e-01],\n",
       "       [ 2.4929346e-01],\n",
       "       [ 3.9048129e-01],\n",
       "       [ 2.1840961e-01],\n",
       "       [ 3.2796028e-01],\n",
       "       [ 3.0211288e-01],\n",
       "       [ 2.5552875e-01],\n",
       "       [ 2.6315349e-01],\n",
       "       [ 7.1188048e-02],\n",
       "       [ 4.9195126e-01],\n",
       "       [ 4.3871874e-01],\n",
       "       [ 4.7952658e-01],\n",
       "       [ 4.6533126e-01],\n",
       "       [ 2.1140732e-01],\n",
       "       [ 3.5589603e-01],\n",
       "       [ 4.2763004e-01],\n",
       "       [ 3.0426019e-01],\n",
       "       [ 4.2261180e-01],\n",
       "       [ 2.1338318e-01],\n",
       "       [ 3.6435694e-01],\n",
       "       [ 3.9294702e-01],\n",
       "       [ 2.6475319e-01],\n",
       "       [ 2.0832722e-01],\n",
       "       [ 7.7325642e-02],\n",
       "       [ 7.2345805e-01],\n",
       "       [ 5.3422940e-01],\n",
       "       [ 4.3045995e-01],\n",
       "       [ 4.2871445e-01],\n",
       "       [ 2.7503353e-01],\n",
       "       [ 4.3669155e-01],\n",
       "       [ 4.1362101e-01],\n",
       "       [ 3.1465471e-01],\n",
       "       [ 5.8101922e-02],\n",
       "       [ 4.2632991e-01],\n",
       "       [ 2.2405215e-01],\n",
       "       [ 3.4831679e-01],\n",
       "       [ 3.2749045e-01],\n",
       "       [ 3.1420198e-01],\n",
       "       [ 2.8284395e-01],\n",
       "       [ 4.1094810e-02],\n",
       "       [ 7.4269563e-01],\n",
       "       [ 5.9700799e-01],\n",
       "       [ 6.3722444e-01],\n",
       "       [ 3.6139536e-01],\n",
       "       [ 6.0968071e-01],\n",
       "       [ 5.2313256e-01],\n",
       "       [ 5.5179089e-01],\n",
       "       [ 1.0098685e-01],\n",
       "       [ 4.7068554e-01],\n",
       "       [ 3.3318529e-01],\n",
       "       [ 5.1333714e-01],\n",
       "       [ 3.1166148e-01],\n",
       "       [ 2.8946728e-01],\n",
       "       [ 3.8923562e-01],\n",
       "       [ 1.8536173e-01],\n",
       "       [ 5.3847540e-02],\n",
       "       [ 5.0397086e-01],\n",
       "       [ 5.7278168e-01],\n",
       "       [ 5.4246032e-01],\n",
       "       [ 4.9657452e-01],\n",
       "       [ 2.5887847e-01],\n",
       "       [ 5.3032804e-01],\n",
       "       [ 5.2517629e-01],\n",
       "       [ 3.2762146e-01],\n",
       "       [ 5.1080823e-01],\n",
       "       [ 4.1060877e-01],\n",
       "       [ 3.3633181e-01],\n",
       "       [ 2.5725159e-01],\n",
       "       [ 3.2173640e-01],\n",
       "       [ 1.9989292e-01]], dtype=float32)"
      ]
     },
     "execution_count": 277,
     "metadata": {},
     "output_type": "execute_result"
    }
   ],
   "source": [
    "train_predict"
   ]
  },
  {
   "cell_type": "code",
   "execution_count": 278,
   "metadata": {},
   "outputs": [],
   "source": [
    "inv_train_predict = concatenate((train_X, train_predict), axis=1)\n",
    "inv_test_predict = concatenate((test_X, test_predict), axis=1)\n",
    "\n",
    "#transforming to original scale\n",
    "inv_train_predict = scaler.inverse_transform(inv_train_predict)\n",
    "inv_test_predict = scaler.inverse_transform(inv_test_predict)"
   ]
  },
  {
   "cell_type": "code",
   "execution_count": 279,
   "metadata": {},
   "outputs": [
    {
     "data": {
      "text/plain": [
       "array([ 5.59873709e+00,  5.07490465e+00,  4.44856645e+00,  7.63837051e+00,\n",
       "        3.56982805e+00,  5.58125713e+00,  5.95894367e+00,  2.00248469e+00,\n",
       "        3.49065126e+00,  1.95354471e-01,  1.55295594e+00,  1.59986459e+00,\n",
       "        2.50603937e+00,  1.68250524e+00,  2.95412851e-01,  9.12552124e+00,\n",
       "        5.82721376e+00,  6.28068811e+00,  4.63557848e+00,  7.36460677e+00,\n",
       "        5.81117094e+00,  2.92156969e+00,  5.68307632e+00,  1.11276172e+00,\n",
       "        2.68393968e+00,  3.21009938e+00,  2.49841885e+00,  1.82595151e-03,\n",
       "        3.78441723e-01,  3.99144323e+00,  2.39075914e+00,  7.84190357e+00,\n",
       "        6.08063745e+00,  7.22406498e+00,  6.52557737e+00,  3.98034541e+00,\n",
       "        6.90459514e+00,  6.70559090e+00,  2.19012257e-01,  2.44460103e+00,\n",
       "        5.12465543e+00,  1.47140178e+00,  3.15706949e+00,  3.18813619e+00,\n",
       "        2.40258940e+00, -1.29415183e-02,  1.70629570e+00,  2.88085369e-01,\n",
       "        9.63397110e+00,  7.05032033e+00,  8.64201841e+00,  5.58142078e+00,\n",
       "        2.51009934e+00,  8.98436904e+00,  7.38307539e+00,  1.56303728e-01,\n",
       "        3.17839821e+00,  5.67545015e+00,  1.10554494e+00,  3.04468900e+00,\n",
       "        2.39219995e+00,  1.17675070e+00,  3.11405079e+00,  1.64489105e-01,\n",
       "        5.69909760e-02, -2.68989069e-01,  1.08005948e+01,  7.43462682e+00,\n",
       "        9.06122875e+00,  8.70536810e+00,  5.09285006e+00,  8.60399795e+00,\n",
       "        7.72603869e+00,  3.09534095e+00,  5.12780629e-01,  6.02836519e+00,\n",
       "        9.19498637e-01,  3.94708820e+00,  3.23946792e+00,  2.00808074e+00,\n",
       "        3.35662864e+00,  3.91135465e-01,  1.99228041e-01, -1.68467006e-01,\n",
       "        7.19106427e+00,  7.99149847e+00,  7.82569596e+00,  1.00573892e+01,\n",
       "        8.19358873e+00,  3.37762837e+00,  7.13181192e+00,  2.83144854e+00,\n",
       "        4.86269575e-01,  5.26647240e+00,  8.92889481e-01,  3.25516647e+00,\n",
       "        1.87937161e+00,  3.46561421e+00,  3.56645153e+00, -6.75043068e-02,\n",
       "        2.12886345e-01, -3.77411336e-01,  7.75260007e+00,  5.44947004e+00,\n",
       "        4.93152767e+00,  5.01891896e+00,  3.45504838e+00,  6.32672715e+00,\n",
       "        6.50585678e+00,  2.70963641e+00,  4.49443534e+00,  1.32603700e+00,\n",
       "        3.46302478e+00,  3.24183397e+00,  2.50968060e+00,  3.14835046e+00,\n",
       "        8.83086026e-01,  2.25155793e-01,  8.45464653e+00,  5.54625532e+00,\n",
       "        6.60960799e+00,  5.42848334e+00,  3.01938836e+00,  6.54731718e+00,\n",
       "        6.24263480e+00,  2.52656175e+00,  1.02930470e+00,  5.46830446e+00,\n",
       "        1.82278160e+00,  2.79802825e+00,  2.07289758e+00,  2.87381323e+00,\n",
       "        2.63802634e+00,  9.43332136e+00,  6.64557356e+00,  8.94448110e+00,\n",
       "        4.85494146e+00,  2.81036897e+00,  7.76915026e+00,  5.60981679e+00,\n",
       "        3.61270802e+00,  6.10808175e-01,  6.43169522e+00,  1.95003860e+00,\n",
       "        4.36833476e+00,  1.84460026e+00,  3.59237108e+00,  3.22802129e+00,\n",
       "        3.54083918e-01,  4.16723383e-02,  8.52568638e+00,  6.78902584e+00,\n",
       "        7.38395929e+00,  6.03972179e+00,  3.52526832e+00,  5.61291245e+00,\n",
       "        7.80119854e+00,  2.76876645e+00,  1.08927710e+00,  5.83991009e+00,\n",
       "        2.62121597e+00,  2.73284279e+00,  3.39033829e+00,  1.48556864e+00,\n",
       "        6.26649350e-01,  2.86322956e+00,  5.13508677e-01,  3.44571725e-01,\n",
       "        9.52707440e+00,  8.69614851e+00,  7.43000966e+00,  6.33573949e+00,\n",
       "        3.76754889e+00,  7.28616270e+00,  7.99752557e+00,  3.64748730e+00,\n",
       "        7.73330715e-01,  5.95202190e+00,  2.10389279e+00,  3.60807614e+00,\n",
       "        3.24171336e+00,  3.63723828e+00,  2.25563531e+00,  7.78869502e-01,\n",
       "        3.84785073e-01, -7.34627875e-02,  8.43447861e+00,  8.10776255e+00,\n",
       "        7.23924145e+00,  5.19485611e+00,  6.67848933e+00,  9.03657165e+00,\n",
       "        1.19118716e+01,  5.03606993e+00,  1.24737749e+00,  7.54021776e+00,\n",
       "        2.14630589e+00,  4.25520144e+00,  5.27129510e+00,  5.08333886e+00,\n",
       "        3.29810901e+00,  8.94523308e-01,  8.96074194e+00,  6.87519121e+00,\n",
       "        5.89943027e+00,  8.05579039e+00,  8.49170664e+00,  9.45424747e+00,\n",
       "        3.62512462e+00,  6.44297311e+00,  3.88604878e+00,  3.20052759e+00,\n",
       "        4.01631324e+00,  2.89804734e+00,  1.86351409e+00,  8.33308779e-01,\n",
       "        1.17292049e+00,  2.95850976e+00,  9.35472327e+00,  6.90121862e+00,\n",
       "        5.92024824e+00,  6.51556560e+00,  2.80345003e+00,  7.24578893e+00,\n",
       "        6.17637914e+00,  4.04890767e+00,  5.51132089e+00,  2.49923255e+00,\n",
       "        5.01736009e+00,  4.35385051e+00,  3.67839772e+00,  2.36985114e+00,\n",
       "        9.99967307e-01,  8.83887771e+00,  7.27031693e+00,  7.31621838e+00,\n",
       "        5.29817867e+00,  2.74063374e+00,  6.10456863e+00,  6.21039003e+00,\n",
       "        3.44586872e+00,  9.47829671e-01,  5.21477941e+00,  3.03246747e+00,\n",
       "        4.32909659e+00,  3.79853518e+00,  2.58629371e+00,  3.95724379e+00,\n",
       "        9.57392402e-01,  8.75184018e-01,  8.16324937e+00,  9.19096151e+00,\n",
       "        6.13183498e+00,  8.79589128e+00,  3.66817786e+00,  7.08581364e+00,\n",
       "        6.81496379e+00,  4.33149321e+00,  1.12854606e+00,  6.37025774e+00,\n",
       "        3.38953649e+00,  5.57755446e+00,  4.85737687e+00,  4.53450136e+00,\n",
       "        3.10557242e+00,  1.18310510e+00,  9.46750198e-01,  9.10079619e+00,\n",
       "        6.73028934e+00,  7.33289766e+00,  6.89264965e+00,  3.54090486e+00,\n",
       "        6.49530709e+00,  7.64472604e+00,  1.56598593e+00,  4.18297644e+00,\n",
       "        6.35780829e+00,  3.54313247e+00,  5.43111014e+00,  5.15052485e+00,\n",
       "        5.86158535e+00,  3.55652244e+00,  1.51491000e+00,  6.61667868e-01,\n",
       "        1.18841652e+01,  9.39770404e+00,  7.66143534e+00,  7.60731372e+00,\n",
       "        8.08171362e+00,  3.88681830e+00,  7.99620736e+00,  4.79019880e+00,\n",
       "        6.32921749e+00,  3.86280446e+00,  6.23134446e+00,  4.18895485e+00,\n",
       "        4.51026243e+00,  5.01243886e+00,  4.30717027e-01,  1.61161303e+00,\n",
       "        9.39125848e+00,  1.06275891e+01,  8.39852154e+00,  1.27002125e+01,\n",
       "        5.01651299e+00,  7.89934450e+00,  8.72064990e+00,  5.24333680e+00,\n",
       "        1.67199886e+00,  8.82565987e+00,  7.17446709e+00,  6.43505079e+00,\n",
       "        5.19265398e+00,  4.11876690e+00,  3.24485885e+00,  9.39654720e+00,\n",
       "        9.73006272e+00,  7.63856417e+00,  3.43678106e+00,  8.20801550e+00,\n",
       "        7.67151958e+00,  1.12503535e+01,  3.93331912e+00,  9.21526074e+00,\n",
       "        5.39488864e+00,  4.79583237e+00,  5.44488686e+00,  2.67088832e+00,\n",
       "        1.34493625e+00,  3.54566868e+00,  1.04958150e+01,  7.65952879e+00,\n",
       "        7.31361648e+00,  6.88856307e+00,  4.02495299e+00,  8.59291881e+00,\n",
       "        7.11273402e+00,  4.39710109e+00,  6.32616600e+00,  3.94690813e+00,\n",
       "        5.07109269e+00,  4.90783262e+00,  3.38129254e+00,  5.21436152e+00,\n",
       "        1.32643253e+00,  1.59283821e+00,  1.08917046e+01,  8.84509450e+00,\n",
       "        8.46042052e+00,  7.02564001e+00,  4.90336892e+00,  7.83298352e+00,\n",
       "        8.94367307e+00,  4.99345893e+00,  8.22281089e+00,  3.47086160e+00,\n",
       "        5.81488550e+00,  5.59194952e+00,  5.06468338e+00,  3.13278158e+00,\n",
       "        1.15208794e+00,  1.07498977e+00,  1.06948453e+01,  8.91032696e+00,\n",
       "        8.05123836e+00,  7.68318534e+00,  4.70452861e+00,  9.19617322e+00,\n",
       "        8.09538162e+00,  4.73657577e+00,  7.41914457e+00,  4.14978264e+00,\n",
       "        6.23124537e+00,  5.74014467e+00,  4.85504621e+00,  4.99991637e+00,\n",
       "        1.35257290e+00,  9.34707388e+00,  8.33565599e+00,  9.11100501e+00,\n",
       "        8.84129387e+00,  4.01673906e+00,  6.76202449e+00,  8.12497070e+00,\n",
       "        5.78094369e+00,  8.02962425e+00,  4.05428047e+00,  6.92278177e+00,\n",
       "        7.46599334e+00,  5.03031066e+00,  3.95821716e+00,  1.46918720e+00,\n",
       "        1.37457030e+01,  1.01503586e+01,  8.17873898e+00,  8.14557463e+00,\n",
       "        5.22563714e+00,  8.29713950e+00,  7.85879916e+00,  5.97843945e+00,\n",
       "        1.10393652e+00,  8.10026830e+00,  4.25699078e+00,  6.61801898e+00,\n",
       "        6.22231853e+00,  5.96983764e+00,  5.37403500e+00,  7.80801386e-01,\n",
       "        1.41112170e+01,  1.13431518e+01,  1.21072643e+01,  6.86651182e+00,\n",
       "        1.15839335e+01,  9.93951869e+00,  1.04840270e+01,  1.91875021e+00,\n",
       "        8.94302529e+00,  6.33052042e+00,  9.75340557e+00,  5.92156816e+00,\n",
       "        5.49987823e+00,  7.39547670e+00,  3.52187283e+00,  1.02310326e+00,\n",
       "        9.57544637e+00,  1.08828520e+01,  1.03067461e+01,  9.43491590e+00,\n",
       "        4.91869092e+00,  1.00762327e+01,  9.97834945e+00,  6.22480774e+00,\n",
       "        9.70535636e+00,  7.80156660e+00,  6.39030448e+00,  4.88778022e+00,\n",
       "        6.11299151e+00,  3.79796554e+00])"
      ]
     },
     "execution_count": 279,
     "metadata": {},
     "output_type": "execute_result"
    }
   ],
   "source": [
    "#predicted values on training data\n",
    "inv_train_predict = inv_train_predict[:, -1]\n",
    "inv_train_predict"
   ]
  },
  {
   "cell_type": "code",
   "execution_count": 280,
   "metadata": {},
   "outputs": [
    {
     "data": {
      "text/plain": [
       "array([ 0.99915248,  1.31096387,  8.5871352 ,  8.68029141,  9.77978122,\n",
       "        6.11091623,  8.93774337, 10.29499656,  6.66575563,  1.98760097,\n",
       "        8.89007241,  5.27633864,  7.39174289,  7.65838951,  6.12147725,\n",
       "        5.74384224,  8.37530667,  7.67656764,  8.98370427,  8.85337922,\n",
       "       11.30734932,  5.73876756, 10.14140284,  8.3381418 ,  5.74771762,\n",
       "        1.87219277,  8.25213555,  4.1797732 ,  7.34831592,  7.24047813,\n",
       "        7.34501415,  5.12174323,  1.41648573, 11.41072625, 11.35171455,\n",
       "        9.40760934,  9.73418045,  9.81445122,  6.77154249, 10.052028  ,\n",
       "        6.01876396,  1.8329379 ,  9.28808087,  5.71294004,  9.83406025,\n",
       "        6.90440658,  6.7999804 ,  7.66357291,  1.38144017])"
      ]
     },
     "execution_count": 280,
     "metadata": {},
     "output_type": "execute_result"
    }
   ],
   "source": [
    "#predicted values on testing data\n",
    "inv_test_predict = inv_test_predict[:, -1]\n",
    "inv_test_predict "
   ]
  },
  {
   "cell_type": "code",
   "execution_count": 281,
   "metadata": {},
   "outputs": [],
   "source": [
    "inv_test_predict = np.round(inv_test_predict, 0)\n",
    "# inv_test_predict = inv_test_predict + 2"
   ]
  },
  {
   "cell_type": "code",
   "execution_count": 282,
   "metadata": {},
   "outputs": [
    {
     "data": {
      "text/plain": [
       "array([ 1.,  1.,  9.,  9., 10.,  6.,  9., 10.,  7.,  2.,  9.,  5.,  7.,\n",
       "        8.,  6.,  6.,  8.,  8.,  9.,  9., 11.,  6., 10.,  8.,  6.,  2.,\n",
       "        8.,  4.,  7.,  7.,  7.,  5.,  1., 11., 11.,  9., 10., 10.,  7.,\n",
       "       10.,  6.,  2.,  9.,  6., 10.,  7.,  7.,  8.,  1.])"
      ]
     },
     "execution_count": 282,
     "metadata": {},
     "output_type": "execute_result"
    }
   ],
   "source": [
    "inv_test_predict"
   ]
  },
  {
   "cell_type": "code",
   "execution_count": 283,
   "metadata": {},
   "outputs": [],
   "source": [
    "df_train = pd.DataFrame(train)\n",
    "df_test = pd.DataFrame(test)"
   ]
  },
  {
   "cell_type": "code",
   "execution_count": 284,
   "metadata": {},
   "outputs": [],
   "source": [
    "#scaling back the original train labels\n",
    "train_y = train_y.reshape((len(train_y), 1))\n",
    "inv_train_y = concatenate((train_X, train_y), axis=1)\n",
    "inv_train_y = scaler.inverse_transform(inv_train_y)\n",
    "inv_train_y = inv_train_y[:,-1]"
   ]
  },
  {
   "cell_type": "code",
   "execution_count": 285,
   "metadata": {},
   "outputs": [],
   "source": [
    "\n",
    "\n",
    "#scaling back the original test labels\n",
    "test_y = test_y.reshape((len(test_y), 1))\n",
    "inv_test_y = concatenate((test_X, test_y), axis=1)\n",
    "inv_test_y = scaler.inverse_transform(inv_test_y)\n",
    "inv_test_y = inv_test_y[:,-1]\n",
    "inv_test_y = inv_test_y.flatten()"
   ]
  },
  {
   "cell_type": "code",
   "execution_count": 286,
   "metadata": {},
   "outputs": [
    {
     "name": "stdout",
     "output_type": "stream",
     "text": [
      "Test RMSE: 2.244\n"
     ]
    }
   ],
   "source": [
    "#calculating rmse on train data\n",
    "rmse_train = sqrt(mean_squared_error(inv_train_y, inv_train_predict))\n",
    "print('Test RMSE: %.3f' % rmse_train)"
   ]
  },
  {
   "cell_type": "code",
   "execution_count": 287,
   "metadata": {},
   "outputs": [
    {
     "name": "stdout",
     "output_type": "stream",
     "text": [
      "Test RMSE: 3.185\n"
     ]
    }
   ],
   "source": [
    "#calculating rmse on test data\n",
    "rmse_test = sqrt(mean_squared_error(inv_test_y, inv_test_predict))\n",
    "print('Test RMSE: %.3f' % rmse_test)"
   ]
  },
  {
   "cell_type": "code",
   "execution_count": 288,
   "metadata": {
    "scrolled": false
   },
   "outputs": [
    {
     "data": {
      "image/png": "[encoded data removed]",
      "text/plain": [
       "<Figure size 1440x576 with 1 Axes>"
      ]
     },
     "metadata": {
      "needs_background": "light"
     },
     "output_type": "display_data"
    }
   ],
   "source": [
    "# #plotting the graph of test actual vs predicted\n",
    "# inv_test_y = inv_test_y.reshape(-1,1)\n",
    "# inv_test_y.shape\n",
    "\n",
    "# t = np.arange(0,54,1)\n",
    "\n",
    "# plt.figure(figsize=(20,10))\n",
    "# plt.plot(t,inv_test_y,label=\"actual\")\n",
    "# plt.plot(t,inv_test_predict,'r',label=\"predicted\")\n",
    "# plt.show()\n",
    "\n",
    "# create plot\n",
    "fig, ax = plt.subplots(figsize=(20,8))\n",
    "index = np.arange(0,test_y.shape[0],1)\n",
    "bar_width = 0.30\n",
    "opacity = 0.6\n",
    "\n",
    "rects1 = plt.bar(test_names, inv_test_y, bar_width,\n",
    "alpha=opacity,\n",
    "color='g',\n",
    "label='actual')\n",
    "\n",
    "rects2 = plt.bar(index + bar_width, inv_test_predict, bar_width,\n",
    "alpha=opacity,\n",
    "color='r',\n",
    "label='predicted')\n",
    "\n",
    "plt.xlabel('Items')\n",
    "plt.ylabel('Sales')\n",
    "plt.title('Sales by item')\n",
    "plt.xticks(rotation=90)\n",
    "# plt.xticks(index + bar_width, ('A', 'B', 'C', 'D'))\n",
    "plt.legend()\n",
    "\n",
    "plt.tight_layout()\n",
    "plt.show()"
   ]
  },
  {
   "cell_type": "code",
   "execution_count": 289,
   "metadata": {},
   "outputs": [],
   "source": [
    "## https://www.tensorflow.org/tutorials/structured_data/time_series#multi-step_models"
   ]
  },
  {
   "cell_type": "code",
   "execution_count": 290,
   "metadata": {},
   "outputs": [],
   "source": [
    "## https://www.tensorflow.org/tutorials/structured_data/time_series#rnn_2"
   ]
  },
  {
   "cell_type": "code",
   "execution_count": 291,
   "metadata": {},
   "outputs": [
    {
     "data": {
      "text/plain": [
       "array([ 0.,  0.,  9.,  6.,  9.,  6.,  6.,  5.,  4.,  1.,  9.,  6.,  5.,\n",
       "        4.,  6.,  3.,  0., 10.,  3., 10., 10.,  6.,  9., 11.,  4.,  1.,\n",
       "        5.,  4.,  6.,  3.,  7.,  8.,  2.,  8.,  1.,  7., 10.,  9.,  3.,\n",
       "        7.,  1.,  1.,  4.,  4.,  5.,  4.,  3.,  5.,  0.])"
      ]
     },
     "execution_count": 291,
     "metadata": {},
     "output_type": "execute_result"
    }
   ],
   "source": [
    "inv_test_y"
   ]
  },
  {
   "cell_type": "code",
   "execution_count": 292,
   "metadata": {},
   "outputs": [
    {
     "data": {
      "text/plain": [
       "array([ 1.,  1.,  9.,  9., 10.,  6.,  9., 10.,  7.,  2.,  9.,  5.,  7.,\n",
       "        8.,  6.,  6.,  8.,  8.,  9.,  9., 11.,  6., 10.,  8.,  6.,  2.,\n",
       "        8.,  4.,  7.,  7.,  7.,  5.,  1., 11., 11.,  9., 10., 10.,  7.,\n",
       "       10.,  6.,  2.,  9.,  6., 10.,  7.,  7.,  8.,  1.])"
      ]
     },
     "execution_count": 292,
     "metadata": {},
     "output_type": "execute_result"
    }
   ],
   "source": [
    "inv_test_predict"
   ]
  },
  {
   "cell_type": "code",
   "execution_count": 293,
   "metadata": {},
   "outputs": [
    {
     "data": {
      "text/plain": [
       "array([ 1.,  1.,  0.,  3.,  1.,  0.,  3.,  5.,  3.,  1.,  0., -1.,  2.,\n",
       "        4.,  0.,  3.,  8., -2.,  6., -1.,  1.,  0.,  1., -3.,  2.,  1.,\n",
       "        3.,  0.,  1.,  4.,  0., -3., -1.,  3., 10.,  2.,  0.,  1.,  4.,\n",
       "        3.,  5.,  1.,  5.,  2.,  5.,  3.,  4.,  3.,  1.])"
      ]
     },
     "execution_count": 293,
     "metadata": {},
     "output_type": "execute_result"
    }
   ],
   "source": [
    "difference = inv_test_predict - inv_test_y\n",
    "difference"
   ]
  },
  {
   "cell_type": "code",
   "execution_count": 294,
   "metadata": {},
   "outputs": [],
   "source": [
    "difference.sort()"
   ]
  },
  {
   "cell_type": "code",
   "execution_count": 295,
   "metadata": {},
   "outputs": [
    {
     "data": {
      "text/plain": [
       "array([-3., -3., -2., -1., -1., -1.,  0.,  0.,  0.,  0.,  0.,  0.,  0.,\n",
       "        0.,  1.,  1.,  1.,  1.,  1.,  1.,  1.,  1.,  1.,  1.,  1.,  2.,\n",
       "        2.,  2.,  2.,  3.,  3.,  3.,  3.,  3.,  3.,  3.,  3.,  3.,  4.,\n",
       "        4.,  4.,  4.,  5.,  5.,  5.,  5.,  6.,  8., 10.])"
      ]
     },
     "execution_count": 295,
     "metadata": {},
     "output_type": "execute_result"
    }
   ],
   "source": [
    "difference"
   ]
  },
  {
   "cell_type": "code",
   "execution_count": 296,
   "metadata": {},
   "outputs": [
    {
     "data": {
      "text/plain": [
       "20"
      ]
     },
     "execution_count": 296,
     "metadata": {},
     "output_type": "execute_result"
    }
   ],
   "source": [
    "toolarge = sum(n > 2 for n in difference)\n",
    "toolarge"
   ]
  },
  {
   "cell_type": "code",
   "execution_count": 297,
   "metadata": {},
   "outputs": [
    {
     "data": {
      "text/plain": [
       "2"
      ]
     },
     "execution_count": 297,
     "metadata": {},
     "output_type": "execute_result"
    }
   ],
   "source": [
    "toosmall = sum(n < -2 for n in difference)\n",
    "toosmall"
   ]
  },
  {
   "cell_type": "code",
   "execution_count": 298,
   "metadata": {},
   "outputs": [
    {
     "data": {
      "text/plain": [
       "8"
      ]
     },
     "execution_count": 298,
     "metadata": {},
     "output_type": "execute_result"
    }
   ],
   "source": [
    "zeros = sum(n == 0 for n in difference)\n",
    "zeros"
   ]
  },
  {
   "cell_type": "code",
   "execution_count": null,
   "metadata": {},
   "outputs": [],
   "source": []
  },
  {
   "cell_type": "code",
   "execution_count": null,
   "metadata": {},
   "outputs": [],
   "source": []
  },
  {
   "cell_type": "code",
   "execution_count": null,
   "metadata": {},
   "outputs": [],
   "source": []
  },
  {
   "cell_type": "code",
   "execution_count": null,
   "metadata": {},
   "outputs": [],
   "source": []
  },
  {
   "cell_type": "code",
   "execution_count": null,
   "metadata": {},
   "outputs": [],
   "source": []
  },
  {
   "cell_type": "code",
   "execution_count": null,
   "metadata": {},
   "outputs": [],
   "source": []
  },
  {
   "cell_type": "code",
   "execution_count": null,
   "metadata": {},
   "outputs": [],
   "source": []
  },
  {
   "cell_type": "code",
   "execution_count": null,
   "metadata": {},
   "outputs": [],
   "source": []
  },
  {
   "cell_type": "code",
   "execution_count": null,
   "metadata": {},
   "outputs": [],
   "source": []
  },
  {
   "cell_type": "code",
   "execution_count": null,
   "metadata": {},
   "outputs": [],
   "source": [
    "\n",
    "\n",
    "\n",
    "\n",
    "\n",
    "\n"
   ]
  },
  {
   "cell_type": "code",
   "execution_count": null,
   "metadata": {},
   "outputs": [],
   "source": []
  },
  {
   "cell_type": "code",
   "execution_count": null,
   "metadata": {},
   "outputs": [],
   "source": []
  },
  {
   "cell_type": "code",
   "execution_count": null,
   "metadata": {},
   "outputs": [],
   "source": []
  },
  {
   "cell_type": "code",
   "execution_count": null,
   "metadata": {},
   "outputs": [],
   "source": []
  },
  {
   "cell_type": "code",
   "execution_count": null,
   "metadata": {},
   "outputs": [],
   "source": []
  },
  {
   "cell_type": "code",
   "execution_count": null,
   "metadata": {},
   "outputs": [],
   "source": []
  },
  {
   "cell_type": "code",
   "execution_count": null,
   "metadata": {},
   "outputs": [],
   "source": []
  },
  {
   "cell_type": "code",
   "execution_count": null,
   "metadata": {},
   "outputs": [],
   "source": []
  },
  {
   "cell_type": "code",
   "execution_count": null,
   "metadata": {},
   "outputs": [],
   "source": []
  },
  {
   "cell_type": "code",
   "execution_count": null,
   "metadata": {},
   "outputs": [],
   "source": []
  },
  {
   "cell_type": "code",
   "execution_count": null,
   "metadata": {},
   "outputs": [],
   "source": []
  },
  {
   "cell_type": "code",
   "execution_count": null,
   "metadata": {},
   "outputs": [],
   "source": []
  }
 ],
 "metadata": {
  "kernelspec": {
   "display_name": "Python 3",
   "language": "python",
   "name": "python3"
  },
  "language_info": {
   "codemirror_mode": {
    "name": "ipython",
    "version": 3
   },
   "file_extension": ".py",
   "mimetype": "text/x-python",
   "name": "python",
   "nbconvert_exporter": "python",
   "pygments_lexer": "ipython3",
   "version": "3.7.6"
  }
 },
 "nbformat": 4,
 "nbformat_minor": 4
}
