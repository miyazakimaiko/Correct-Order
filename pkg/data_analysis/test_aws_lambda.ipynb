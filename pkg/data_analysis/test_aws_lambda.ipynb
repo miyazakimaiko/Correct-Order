{
 "cells": [
  {
   "cell_type": "code",
   "execution_count": 21,
   "metadata": {},
   "outputs": [],
   "source": [
    "# import boto3\n",
    "import os\n",
    "import sys\n",
    "import requests\n",
    "import json\n",
    "import pandas as pd\n",
    "from datetime import datetime, date, timedelta, timezone\n",
    "\n",
    "api_key = '4fab58f885a6f341a28007b52346cffc'\n",
    "url = 'https://api.openweathermap.org/data/2.5/onecall/timemachine'\n",
    "yesterday = datetime.now() - timedelta(days=1)\n",
    "timestamp = round(datetime.timestamp(yesterday))\n",
    "params = {\n",
    "    'lat': '53.349805',\n",
    "    'lon': '-6.26031',\n",
    "    'units': 'metric',\n",
    "    'dt': timestamp,\n",
    "    'appid': api_key\n",
    "}\n",
    "\n",
    "\n",
    "\n",
    "# s3_client = boto3.client('s3')\n",
    "\n",
    "# def lambda_handler(event, context):\n",
    "#     api_key = '4fab58f885a6f341a28007b52346cffc'\n",
    "#     url = 'https://api.openweathermap.org/data/2.5/onecall/timemachine'\n",
    "#     params = {\n",
    "#         'lat': '53.349805',\n",
    "#         'lon': '-6.26031',\n",
    "#         'exclude': 'current,minutely,alerts',\n",
    "#         'units': 'metric',\n",
    "#         'appid': api_key\n",
    "#     }\n",
    "\n",
    "#     upload_path = '/tmp/resized-{}'.format(tmpkey)\n",
    "    \n",
    "#     for record in event['Records']:\n",
    "#         bucket = record['s3']['bucket']['name']\n",
    "#         key = unquote_plus(record['s3']['object']['key'])\n",
    "#         tmpkey = key.replace('/', '')\n",
    "#         download_path = '/tmp/{}{}'.format(uuid.uuid4(), tmpkey)\n",
    "#         upload_path = '/tmp/resized-{}'.format(tmpkey)\n",
    "#         s3_client.download_file(bucket, key, download_path)\n",
    "#         resize_image(download_path, upload_path)\n",
    "#         s3_client.upload_file(upload_path, '{}-resized'.format(bucket), key)"
   ]
  },
  {
   "cell_type": "code",
   "execution_count": 22,
   "metadata": {},
   "outputs": [
    {
     "data": {
      "text/plain": [
       "datetime.datetime(2021, 2, 10, 16, 56, 43, 194447)"
      ]
     },
     "execution_count": 22,
     "metadata": {},
     "output_type": "execute_result"
    }
   ],
   "source": [
    "yesterday"
   ]
  },
  {
   "cell_type": "code",
   "execution_count": 23,
   "metadata": {},
   "outputs": [],
   "source": [
    "result = requests.get(url=url, params=params)\n",
    "result_json = result.json()\n",
    "\n",
    "# result_df = pd.json_normalize(result_json['hourly'])"
   ]
  },
  {
   "cell_type": "code",
   "execution_count": 24,
   "metadata": {},
   "outputs": [],
   "source": [
    "# result_df"
   ]
  },
  {
   "cell_type": "code",
   "execution_count": 25,
   "metadata": {},
   "outputs": [],
   "source": [
    "weather_data = pd.json_normalize(data=result_json['hourly'], record_path='weather',\n",
    "                              meta=['dt', 'temp', 'feels_like', 'clouds'])\n",
    "weather_data = weather_data.drop(['main', 'description', 'icon', 'temp', 'clouds'], 1)"
   ]
  },
  {
   "cell_type": "code",
   "execution_count": 26,
   "metadata": {},
   "outputs": [
    {
     "data": {
      "text/html": [
       "<div>\n",
       "<style scoped>\n",
       "    .dataframe tbody tr th:only-of-type {\n",
       "        vertical-align: middle;\n",
       "    }\n",
       "\n",
       "    .dataframe tbody tr th {\n",
       "        vertical-align: top;\n",
       "    }\n",
       "\n",
       "    .dataframe thead th {\n",
       "        text-align: right;\n",
       "    }\n",
       "</style>\n",
       "<table border=\"1\" class=\"dataframe\">\n",
       "  <thead>\n",
       "    <tr style=\"text-align: right;\">\n",
       "      <th></th>\n",
       "      <th>id</th>\n",
       "      <th>dt</th>\n",
       "      <th>feels_like</th>\n",
       "    </tr>\n",
       "  </thead>\n",
       "  <tbody>\n",
       "    <tr>\n",
       "      <th>6</th>\n",
       "      <td>803</td>\n",
       "      <td>02/10/2021 06:00:00</td>\n",
       "      <td>-5.45</td>\n",
       "    </tr>\n",
       "    <tr>\n",
       "      <th>7</th>\n",
       "      <td>803</td>\n",
       "      <td>02/10/2021 07:00:00</td>\n",
       "      <td>-6.37</td>\n",
       "    </tr>\n",
       "    <tr>\n",
       "      <th>8</th>\n",
       "      <td>803</td>\n",
       "      <td>02/10/2021 08:00:00</td>\n",
       "      <td>-6.6</td>\n",
       "    </tr>\n",
       "    <tr>\n",
       "      <th>9</th>\n",
       "      <td>803</td>\n",
       "      <td>02/10/2021 09:00:00</td>\n",
       "      <td>-5.68</td>\n",
       "    </tr>\n",
       "    <tr>\n",
       "      <th>10</th>\n",
       "      <td>803</td>\n",
       "      <td>02/10/2021 10:00:00</td>\n",
       "      <td>-5.57</td>\n",
       "    </tr>\n",
       "    <tr>\n",
       "      <th>11</th>\n",
       "      <td>803</td>\n",
       "      <td>02/10/2021 11:00:00</td>\n",
       "      <td>-3.02</td>\n",
       "    </tr>\n",
       "    <tr>\n",
       "      <th>12</th>\n",
       "      <td>802</td>\n",
       "      <td>02/10/2021 12:00:00</td>\n",
       "      <td>-5.95</td>\n",
       "    </tr>\n",
       "    <tr>\n",
       "      <th>13</th>\n",
       "      <td>803</td>\n",
       "      <td>02/10/2021 13:00:00</td>\n",
       "      <td>-4.64</td>\n",
       "    </tr>\n",
       "    <tr>\n",
       "      <th>14</th>\n",
       "      <td>500</td>\n",
       "      <td>02/10/2021 14:00:00</td>\n",
       "      <td>-3.22</td>\n",
       "    </tr>\n",
       "    <tr>\n",
       "      <th>15</th>\n",
       "      <td>802</td>\n",
       "      <td>02/10/2021 15:00:00</td>\n",
       "      <td>-4.71</td>\n",
       "    </tr>\n",
       "    <tr>\n",
       "      <th>16</th>\n",
       "      <td>802</td>\n",
       "      <td>02/10/2021 16:00:00</td>\n",
       "      <td>-4.59</td>\n",
       "    </tr>\n",
       "    <tr>\n",
       "      <th>17</th>\n",
       "      <td>802</td>\n",
       "      <td>02/10/2021 17:00:00</td>\n",
       "      <td>-5.13</td>\n",
       "    </tr>\n",
       "    <tr>\n",
       "      <th>18</th>\n",
       "      <td>802</td>\n",
       "      <td>02/10/2021 18:00:00</td>\n",
       "      <td>-5.71</td>\n",
       "    </tr>\n",
       "    <tr>\n",
       "      <th>19</th>\n",
       "      <td>801</td>\n",
       "      <td>02/10/2021 19:00:00</td>\n",
       "      <td>-5.72</td>\n",
       "    </tr>\n",
       "    <tr>\n",
       "      <th>20</th>\n",
       "      <td>801</td>\n",
       "      <td>02/10/2021 20:00:00</td>\n",
       "      <td>-5</td>\n",
       "    </tr>\n",
       "  </tbody>\n",
       "</table>\n",
       "</div>"
      ],
      "text/plain": [
       "     id                   dt feels_like\n",
       "6   803  02/10/2021 06:00:00      -5.45\n",
       "7   803  02/10/2021 07:00:00      -6.37\n",
       "8   803  02/10/2021 08:00:00       -6.6\n",
       "9   803  02/10/2021 09:00:00      -5.68\n",
       "10  803  02/10/2021 10:00:00      -5.57\n",
       "11  803  02/10/2021 11:00:00      -3.02\n",
       "12  802  02/10/2021 12:00:00      -5.95\n",
       "13  803  02/10/2021 13:00:00      -4.64\n",
       "14  500  02/10/2021 14:00:00      -3.22\n",
       "15  802  02/10/2021 15:00:00      -4.71\n",
       "16  802  02/10/2021 16:00:00      -4.59\n",
       "17  802  02/10/2021 17:00:00      -5.13\n",
       "18  802  02/10/2021 18:00:00      -5.71\n",
       "19  801  02/10/2021 19:00:00      -5.72\n",
       "20  801  02/10/2021 20:00:00         -5"
      ]
     },
     "execution_count": 26,
     "metadata": {},
     "output_type": "execute_result"
    }
   ],
   "source": [
    "weather_data['dt'] = weather_data['dt'].apply(lambda x: datetime.fromtimestamp(x))\n",
    "date = weather_data['dt'][0].strftime(\"%m-%d-%Y\")\n",
    "weather_data['dt'] = weather_data['dt'].apply(lambda x: x.strftime(\"%m/%d/%Y %H:%M:%S\"))\n",
    "weather_data = weather_data.drop(weather_data.index[21:])\n",
    "weather_data = weather_data.drop(weather_data.index[:6])\n",
    "weather_data"
   ]
  },
  {
   "cell_type": "code",
   "execution_count": 27,
   "metadata": {},
   "outputs": [],
   "source": [
    "csv_data = weather_data.to_csv()"
   ]
  },
  {
   "cell_type": "code",
   "execution_count": 28,
   "metadata": {},
   "outputs": [
    {
     "data": {
      "text/plain": [
       "',id,dt,feels_like\\n6,803,02/10/2021 06:00:00,-5.45\\n7,803,02/10/2021 07:00:00,-6.37\\n8,803,02/10/2021 08:00:00,-6.6\\n9,803,02/10/2021 09:00:00,-5.68\\n10,803,02/10/2021 10:00:00,-5.57\\n11,803,02/10/2021 11:00:00,-3.02\\n12,802,02/10/2021 12:00:00,-5.95\\n13,803,02/10/2021 13:00:00,-4.64\\n14,500,02/10/2021 14:00:00,-3.22\\n15,802,02/10/2021 15:00:00,-4.71\\n16,802,02/10/2021 16:00:00,-4.59\\n17,802,02/10/2021 17:00:00,-5.13\\n18,802,02/10/2021 18:00:00,-5.71\\n19,801,02/10/2021 19:00:00,-5.72\\n20,801,02/10/2021 20:00:00,-5\\n'"
      ]
     },
     "execution_count": 28,
     "metadata": {},
     "output_type": "execute_result"
    }
   ],
   "source": [
    "csv_data"
   ]
  },
  {
   "cell_type": "code",
   "execution_count": 29,
   "metadata": {},
   "outputs": [
    {
     "data": {
      "text/plain": [
       "'02-10-2021'"
      ]
     },
     "execution_count": 29,
     "metadata": {},
     "output_type": "execute_result"
    }
   ],
   "source": [
    "date"
   ]
  },
  {
   "cell_type": "code",
   "execution_count": 30,
   "metadata": {},
   "outputs": [],
   "source": []
  },
  {
   "cell_type": "code",
   "execution_count": null,
   "metadata": {},
   "outputs": [],
   "source": []
  }
 ],
 "metadata": {
  "kernelspec": {
   "display_name": "Python 3",
   "language": "python",
   "name": "python3"
  },
  "language_info": {
   "codemirror_mode": {
    "name": "ipython",
    "version": 3
   },
   "file_extension": ".py",
   "mimetype": "text/x-python",
   "name": "python",
   "nbconvert_exporter": "python",
   "pygments_lexer": "ipython3",
   "version": "3.7.6"
  }
 },
 "nbformat": 4,
 "nbformat_minor": 4
}
